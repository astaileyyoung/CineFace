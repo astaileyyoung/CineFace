{
 "cells": [
  {
   "cell_type": "code",
   "execution_count": 52,
   "id": "cd37e209-73a6-4a89-b7df-37af34a3b85c",
   "metadata": {},
   "outputs": [],
   "source": [
    "import shutil\n",
    "from pathlib import Path \n",
    "\n",
    "import cv2\n",
    "import numpy as np\n",
    "import pandas as pd\n",
    "import plotly.express as px\n",
    "import matplotlib.pyplot as plt\n",
    "from tqdm.auto import tqdm\n",
    "from PIL import Image\n",
    "from blur_detector import BlurDetector"
   ]
  },
  {
   "cell_type": "code",
   "execution_count": 11,
   "id": "07a84b1a-68ee-4901-a795-03b507303b0a",
   "metadata": {},
   "outputs": [],
   "source": [
    "def process_image(src):\n",
    "    img = cv2.imread(str(src))\n",
    "    gray = cv2.cvtColor(img, cv2.COLOR_BGR2GRAY)\n",
    "    fm = cv2.Laplacian(img, cv2.CV_64F).var()\n",
    "    return fm"
   ]
  },
  {
   "cell_type": "code",
   "execution_count": null,
   "id": "098e9b25-a63a-4e47-bbc2-58a598a2b92e",
   "metadata": {},
   "outputs": [],
   "source": [
    "def detect_blur(src):\n",
    "    img = cv2.imread(str(src))\n",
    "    "
   ]
  },
  {
   "cell_type": "code",
   "execution_count": 12,
   "id": "0245b5fd-946f-4fa9-a1ca-1575c98cf00c",
   "metadata": {},
   "outputs": [
    {
     "data": {
      "text/html": [
       "<div>\n",
       "<style scoped>\n",
       "    .dataframe tbody tr th:only-of-type {\n",
       "        vertical-align: middle;\n",
       "    }\n",
       "\n",
       "    .dataframe tbody tr th {\n",
       "        vertical-align: top;\n",
       "    }\n",
       "\n",
       "    .dataframe thead th {\n",
       "        text-align: right;\n",
       "    }\n",
       "</style>\n",
       "<table border=\"1\" class=\"dataframe\">\n",
       "  <thead>\n",
       "    <tr style=\"text-align: right;\">\n",
       "      <th></th>\n",
       "      <th>imdb_id</th>\n",
       "      <th>frame_num</th>\n",
       "      <th>face_num</th>\n",
       "      <th>x1</th>\n",
       "      <th>y1</th>\n",
       "      <th>x2</th>\n",
       "      <th>y2</th>\n",
       "      <th>img_height</th>\n",
       "      <th>img_width</th>\n",
       "      <th>area</th>\n",
       "      <th>pct_of_frame</th>\n",
       "      <th>season</th>\n",
       "      <th>episode</th>\n",
       "      <th>encoding</th>\n",
       "      <th>filename</th>\n",
       "      <th>character</th>\n",
       "      <th>cast_id</th>\n",
       "    </tr>\n",
       "  </thead>\n",
       "  <tbody>\n",
       "    <tr>\n",
       "      <th>0</th>\n",
       "      <td>1811020</td>\n",
       "      <td>192</td>\n",
       "      <td>0</td>\n",
       "      <td>798</td>\n",
       "      <td>196</td>\n",
       "      <td>916</td>\n",
       "      <td>314</td>\n",
       "      <td>1080</td>\n",
       "      <td>1920</td>\n",
       "      <td>13924</td>\n",
       "      <td>0.007</td>\n",
       "      <td>1</td>\n",
       "      <td>1</td>\n",
       "      <td>[-0.1581144630908966, 0.11875572055578232, 0.0...</td>\n",
       "      <td>S01E01_192_0.png</td>\n",
       "      <td>NaN</td>\n",
       "      <td>NaN</td>\n",
       "    </tr>\n",
       "    <tr>\n",
       "      <th>1</th>\n",
       "      <td>1811020</td>\n",
       "      <td>216</td>\n",
       "      <td>0</td>\n",
       "      <td>1068</td>\n",
       "      <td>389</td>\n",
       "      <td>1491</td>\n",
       "      <td>812</td>\n",
       "      <td>1080</td>\n",
       "      <td>1920</td>\n",
       "      <td>178929</td>\n",
       "      <td>0.086</td>\n",
       "      <td>1</td>\n",
       "      <td>1</td>\n",
       "      <td>[-0.035924218595027924, 0.09460100531578064, 0...</td>\n",
       "      <td>S01E01_216_0.png</td>\n",
       "      <td>NaN</td>\n",
       "      <td>NaN</td>\n",
       "    </tr>\n",
       "    <tr>\n",
       "      <th>2</th>\n",
       "      <td>1811020</td>\n",
       "      <td>216</td>\n",
       "      <td>1</td>\n",
       "      <td>912</td>\n",
       "      <td>17</td>\n",
       "      <td>1205</td>\n",
       "      <td>311</td>\n",
       "      <td>1080</td>\n",
       "      <td>1920</td>\n",
       "      <td>86142</td>\n",
       "      <td>0.042</td>\n",
       "      <td>1</td>\n",
       "      <td>1</td>\n",
       "      <td>[-0.10312943160533905, 0.1261938065290451, 0.0...</td>\n",
       "      <td>S01E01_216_1.png</td>\n",
       "      <td>NaN</td>\n",
       "      <td>NaN</td>\n",
       "    </tr>\n",
       "    <tr>\n",
       "      <th>3</th>\n",
       "      <td>1811020</td>\n",
       "      <td>240</td>\n",
       "      <td>0</td>\n",
       "      <td>1090</td>\n",
       "      <td>106</td>\n",
       "      <td>1384</td>\n",
       "      <td>400</td>\n",
       "      <td>1080</td>\n",
       "      <td>1920</td>\n",
       "      <td>86436</td>\n",
       "      <td>0.042</td>\n",
       "      <td>1</td>\n",
       "      <td>1</td>\n",
       "      <td>[-0.18763160705566406, 0.08110883831977844, 0....</td>\n",
       "      <td>S01E01_240_0.png</td>\n",
       "      <td>NaN</td>\n",
       "      <td>NaN</td>\n",
       "    </tr>\n",
       "    <tr>\n",
       "      <th>4</th>\n",
       "      <td>1811020</td>\n",
       "      <td>240</td>\n",
       "      <td>1</td>\n",
       "      <td>674</td>\n",
       "      <td>522</td>\n",
       "      <td>968</td>\n",
       "      <td>816</td>\n",
       "      <td>1080</td>\n",
       "      <td>1920</td>\n",
       "      <td>86436</td>\n",
       "      <td>0.042</td>\n",
       "      <td>1</td>\n",
       "      <td>1</td>\n",
       "      <td>[-0.11751651763916016, 0.1057925745844841, 0.0...</td>\n",
       "      <td>S01E01_240_1.png</td>\n",
       "      <td>NaN</td>\n",
       "      <td>NaN</td>\n",
       "    </tr>\n",
       "  </tbody>\n",
       "</table>\n",
       "</div>"
      ],
      "text/plain": [
       "   imdb_id  frame_num  face_num    x1   y1    x2   y2  img_height  img_width  \\\n",
       "0  1811020        192         0   798  196   916  314        1080       1920   \n",
       "1  1811020        216         0  1068  389  1491  812        1080       1920   \n",
       "2  1811020        216         1   912   17  1205  311        1080       1920   \n",
       "3  1811020        240         0  1090  106  1384  400        1080       1920   \n",
       "4  1811020        240         1   674  522   968  816        1080       1920   \n",
       "\n",
       "     area  pct_of_frame  season  episode  \\\n",
       "0   13924         0.007       1        1   \n",
       "1  178929         0.086       1        1   \n",
       "2   86142         0.042       1        1   \n",
       "3   86436         0.042       1        1   \n",
       "4   86436         0.042       1        1   \n",
       "\n",
       "                                            encoding          filename  \\\n",
       "0  [-0.1581144630908966, 0.11875572055578232, 0.0...  S01E01_192_0.png   \n",
       "1  [-0.035924218595027924, 0.09460100531578064, 0...  S01E01_216_0.png   \n",
       "2  [-0.10312943160533905, 0.1261938065290451, 0.0...  S01E01_216_1.png   \n",
       "3  [-0.18763160705566406, 0.08110883831977844, 0....  S01E01_240_0.png   \n",
       "4  [-0.11751651763916016, 0.1057925745844841, 0.0...  S01E01_240_1.png   \n",
       "\n",
       "  character  cast_id  \n",
       "0       NaN      NaN  \n",
       "1       NaN      NaN  \n",
       "2       NaN      NaN  \n",
       "3       NaN      NaN  \n",
       "4       NaN      NaN  "
      ]
     },
     "execution_count": 12,
     "metadata": {},
     "output_type": "execute_result"
    }
   ],
   "source": [
    "df = pd.read_csv('./data/faces.csv', index_col=0)\n",
    "df.head()"
   ]
  },
  {
   "cell_type": "code",
   "execution_count": 15,
   "id": "19bc1be3-bcba-43b7-915e-d67ac0ff3978",
   "metadata": {},
   "outputs": [
    {
     "data": {
      "application/vnd.jupyter.widget-view+json": {
       "model_id": "e1d9f2517cee4c4fb51683cdce53ca28",
       "version_major": 2,
       "version_minor": 0
      },
      "text/plain": [
       "0it [00:00, ?it/s]"
      ]
     },
     "metadata": {},
     "output_type": "display_data"
    },
    {
     "data": {
      "application/vnd.jupyter.widget-view+json": {
       "model_id": "5ca5dd3b10954544a328f0624bacbfe2",
       "version_major": 2,
       "version_minor": 0
      },
      "text/plain": [
       "  0%|          | 0/249536 [00:00<?, ?it/s]"
      ]
     },
     "metadata": {},
     "output_type": "display_data"
    },
    {
     "data": {
      "text/html": [
       "<div>\n",
       "<style scoped>\n",
       "    .dataframe tbody tr th:only-of-type {\n",
       "        vertical-align: middle;\n",
       "    }\n",
       "\n",
       "    .dataframe tbody tr th {\n",
       "        vertical-align: top;\n",
       "    }\n",
       "\n",
       "    .dataframe thead th {\n",
       "        text-align: right;\n",
       "    }\n",
       "</style>\n",
       "<table border=\"1\" class=\"dataframe\">\n",
       "  <thead>\n",
       "    <tr style=\"text-align: right;\">\n",
       "      <th></th>\n",
       "      <th>imdb_id</th>\n",
       "      <th>frame_num</th>\n",
       "      <th>face_num</th>\n",
       "      <th>x1</th>\n",
       "      <th>y1</th>\n",
       "      <th>x2</th>\n",
       "      <th>y2</th>\n",
       "      <th>img_height</th>\n",
       "      <th>img_width</th>\n",
       "      <th>area</th>\n",
       "      <th>pct_of_frame</th>\n",
       "      <th>season</th>\n",
       "      <th>episode</th>\n",
       "      <th>encoding</th>\n",
       "      <th>filename</th>\n",
       "      <th>character</th>\n",
       "      <th>cast_id</th>\n",
       "      <th>blur</th>\n",
       "    </tr>\n",
       "  </thead>\n",
       "  <tbody>\n",
       "    <tr>\n",
       "      <th>0</th>\n",
       "      <td>1811020</td>\n",
       "      <td>192</td>\n",
       "      <td>0</td>\n",
       "      <td>798</td>\n",
       "      <td>196</td>\n",
       "      <td>916</td>\n",
       "      <td>314</td>\n",
       "      <td>1080</td>\n",
       "      <td>1920</td>\n",
       "      <td>13924</td>\n",
       "      <td>0.007</td>\n",
       "      <td>1</td>\n",
       "      <td>1</td>\n",
       "      <td>[-0.1581144630908966, 0.11875572055578232, 0.0...</td>\n",
       "      <td>S01E01_192_0.png</td>\n",
       "      <td>NaN</td>\n",
       "      <td>NaN</td>\n",
       "      <td>45.589042</td>\n",
       "    </tr>\n",
       "    <tr>\n",
       "      <th>1</th>\n",
       "      <td>1811020</td>\n",
       "      <td>216</td>\n",
       "      <td>0</td>\n",
       "      <td>1068</td>\n",
       "      <td>389</td>\n",
       "      <td>1491</td>\n",
       "      <td>812</td>\n",
       "      <td>1080</td>\n",
       "      <td>1920</td>\n",
       "      <td>178929</td>\n",
       "      <td>0.086</td>\n",
       "      <td>1</td>\n",
       "      <td>1</td>\n",
       "      <td>[-0.035924218595027924, 0.09460100531578064, 0...</td>\n",
       "      <td>S01E01_216_0.png</td>\n",
       "      <td>NaN</td>\n",
       "      <td>NaN</td>\n",
       "      <td>7.654599</td>\n",
       "    </tr>\n",
       "    <tr>\n",
       "      <th>2</th>\n",
       "      <td>1811020</td>\n",
       "      <td>216</td>\n",
       "      <td>1</td>\n",
       "      <td>912</td>\n",
       "      <td>17</td>\n",
       "      <td>1205</td>\n",
       "      <td>311</td>\n",
       "      <td>1080</td>\n",
       "      <td>1920</td>\n",
       "      <td>86142</td>\n",
       "      <td>0.042</td>\n",
       "      <td>1</td>\n",
       "      <td>1</td>\n",
       "      <td>[-0.10312943160533905, 0.1261938065290451, 0.0...</td>\n",
       "      <td>S01E01_216_1.png</td>\n",
       "      <td>NaN</td>\n",
       "      <td>NaN</td>\n",
       "      <td>8.256315</td>\n",
       "    </tr>\n",
       "    <tr>\n",
       "      <th>3</th>\n",
       "      <td>1811020</td>\n",
       "      <td>240</td>\n",
       "      <td>0</td>\n",
       "      <td>1090</td>\n",
       "      <td>106</td>\n",
       "      <td>1384</td>\n",
       "      <td>400</td>\n",
       "      <td>1080</td>\n",
       "      <td>1920</td>\n",
       "      <td>86436</td>\n",
       "      <td>0.042</td>\n",
       "      <td>1</td>\n",
       "      <td>1</td>\n",
       "      <td>[-0.18763160705566406, 0.08110883831977844, 0....</td>\n",
       "      <td>S01E01_240_0.png</td>\n",
       "      <td>NaN</td>\n",
       "      <td>NaN</td>\n",
       "      <td>7.682450</td>\n",
       "    </tr>\n",
       "    <tr>\n",
       "      <th>4</th>\n",
       "      <td>1811020</td>\n",
       "      <td>240</td>\n",
       "      <td>1</td>\n",
       "      <td>674</td>\n",
       "      <td>522</td>\n",
       "      <td>968</td>\n",
       "      <td>816</td>\n",
       "      <td>1080</td>\n",
       "      <td>1920</td>\n",
       "      <td>86436</td>\n",
       "      <td>0.042</td>\n",
       "      <td>1</td>\n",
       "      <td>1</td>\n",
       "      <td>[-0.11751651763916016, 0.1057925745844841, 0.0...</td>\n",
       "      <td>S01E01_240_1.png</td>\n",
       "      <td>NaN</td>\n",
       "      <td>NaN</td>\n",
       "      <td>15.825289</td>\n",
       "    </tr>\n",
       "  </tbody>\n",
       "</table>\n",
       "</div>"
      ],
      "text/plain": [
       "   imdb_id  frame_num  face_num    x1   y1    x2   y2  img_height  img_width  \\\n",
       "0  1811020        192         0   798  196   916  314        1080       1920   \n",
       "1  1811020        216         0  1068  389  1491  812        1080       1920   \n",
       "2  1811020        216         1   912   17  1205  311        1080       1920   \n",
       "3  1811020        240         0  1090  106  1384  400        1080       1920   \n",
       "4  1811020        240         1   674  522   968  816        1080       1920   \n",
       "\n",
       "     area  pct_of_frame  season  episode  \\\n",
       "0   13924         0.007       1        1   \n",
       "1  178929         0.086       1        1   \n",
       "2   86142         0.042       1        1   \n",
       "3   86436         0.042       1        1   \n",
       "4   86436         0.042       1        1   \n",
       "\n",
       "                                            encoding          filename  \\\n",
       "0  [-0.1581144630908966, 0.11875572055578232, 0.0...  S01E01_192_0.png   \n",
       "1  [-0.035924218595027924, 0.09460100531578064, 0...  S01E01_216_0.png   \n",
       "2  [-0.10312943160533905, 0.1261938065290451, 0.0...  S01E01_216_1.png   \n",
       "3  [-0.18763160705566406, 0.08110883831977844, 0....  S01E01_240_0.png   \n",
       "4  [-0.11751651763916016, 0.1057925745844841, 0.0...  S01E01_240_1.png   \n",
       "\n",
       "  character  cast_id       blur  \n",
       "0       NaN      NaN  45.589042  \n",
       "1       NaN      NaN   7.654599  \n",
       "2       NaN      NaN   8.256315  \n",
       "3       NaN      NaN   7.682450  \n",
       "4       NaN      NaN  15.825289  "
      ]
     },
     "execution_count": 15,
     "metadata": {},
     "output_type": "execute_result"
    }
   ],
   "source": [
    "tqdm().pandas()\n",
    "df['blur'] = df['filename'].progress_map(lambda x: process_image(Path('./data/images/').joinpath(x)))\n",
    "df.head()"
   ]
  },
  {
   "cell_type": "code",
   "execution_count": 16,
   "id": "e5512b8f-6cb4-4333-adf9-4e1498657944",
   "metadata": {},
   "outputs": [],
   "source": [
    "not_detected = df[df['character'].isna()]\n",
    "detected = df[df['character'].notna()]"
   ]
  },
  {
   "cell_type": "code",
   "execution_count": 19,
   "id": "7d409ba3-fa9c-4943-a6b4-f989a1615d50",
   "metadata": {},
   "outputs": [
    {
     "data": {
      "text/plain": [
       "6769.002374313329"
      ]
     },
     "execution_count": 19,
     "metadata": {},
     "output_type": "execute_result"
    }
   ],
   "source": [
    "not_detected['blur'].max()"
   ]
  },
  {
   "cell_type": "code",
   "execution_count": 20,
   "id": "c85214f8-5d29-4e58-9707-2776e334623c",
   "metadata": {},
   "outputs": [
    {
     "data": {
      "text/plain": [
       "31.81459993991953"
      ]
     },
     "execution_count": 20,
     "metadata": {},
     "output_type": "execute_result"
    }
   ],
   "source": [
    "detected['blur'].mean()"
   ]
  },
  {
   "cell_type": "code",
   "execution_count": 32,
   "id": "21f3db27-60da-49c7-a686-e24f96dcf6f4",
   "metadata": {},
   "outputs": [],
   "source": [
    "def save_images(row):\n",
    "    dst = Path('./data/blurred')\n",
    "    n = 'blur' if row['blur'] < 100 else 'not_blur'\n",
    "    dst_dir = dst.joinpath(n)\n",
    "    if not dst_dir.exists():\n",
    "        Path.mkdir(dst_dir, parents=True)\n",
    "    \n",
    "    fp = dst_dir.joinpath(row['filename']).absolute()\n",
    "    src = Path('./data/images/').joinpath(row['filename']).absolute()\n",
    "    shutil.copy(str(src), str(fp))"
   ]
  },
  {
   "cell_type": "code",
   "execution_count": 33,
   "id": "8664a703-da85-44c0-bc82-a9691f80d5b6",
   "metadata": {},
   "outputs": [
    {
     "data": {
      "application/vnd.jupyter.widget-view+json": {
       "model_id": "9182921d82a9495c88ef34c2fc0c3b98",
       "version_major": 2,
       "version_minor": 0
      },
      "text/plain": [
       "0it [00:00, ?it/s]"
      ]
     },
     "metadata": {},
     "output_type": "display_data"
    },
    {
     "data": {
      "application/vnd.jupyter.widget-view+json": {
       "model_id": "807c640cb3bf4e188bc045a418e8ee42",
       "version_major": 2,
       "version_minor": 0
      },
      "text/plain": [
       "  0%|          | 0/249536 [00:00<?, ?it/s]"
      ]
     },
     "metadata": {},
     "output_type": "display_data"
    },
    {
     "ename": "KeyboardInterrupt",
     "evalue": "",
     "output_type": "error",
     "traceback": [
      "\u001b[0;31m---------------------------------------------------------------------------\u001b[0m",
      "\u001b[0;31mKeyboardInterrupt\u001b[0m                         Traceback (most recent call last)",
      "Cell \u001b[0;32mIn[33], line 2\u001b[0m\n\u001b[1;32m      1\u001b[0m tqdm()\u001b[38;5;241m.\u001b[39mpandas()\n\u001b[0;32m----> 2\u001b[0m \u001b[43mdf\u001b[49m\u001b[38;5;241;43m.\u001b[39;49m\u001b[43mprogress_apply\u001b[49m\u001b[43m(\u001b[49m\u001b[43msave_images\u001b[49m\u001b[43m,\u001b[49m\u001b[43m \u001b[49m\u001b[43maxis\u001b[49m\u001b[38;5;241;43m=\u001b[39;49m\u001b[38;5;241;43m1\u001b[39;49m\u001b[43m)\u001b[49m\n",
      "File \u001b[0;32m~/local/anaconda/envs/homeland/lib/python3.9/site-packages/tqdm/std.py:920\u001b[0m, in \u001b[0;36mtqdm.pandas.<locals>.inner_generator.<locals>.inner\u001b[0;34m(df, func, *args, **kwargs)\u001b[0m\n\u001b[1;32m    917\u001b[0m \u001b[38;5;66;03m# Apply the provided function (in **kwargs)\u001b[39;00m\n\u001b[1;32m    918\u001b[0m \u001b[38;5;66;03m# on the df using our wrapper (which provides bar updating)\u001b[39;00m\n\u001b[1;32m    919\u001b[0m \u001b[38;5;28;01mtry\u001b[39;00m:\n\u001b[0;32m--> 920\u001b[0m     \u001b[38;5;28;01mreturn\u001b[39;00m \u001b[38;5;28;43mgetattr\u001b[39;49m\u001b[43m(\u001b[49m\u001b[43mdf\u001b[49m\u001b[43m,\u001b[49m\u001b[43m \u001b[49m\u001b[43mdf_function\u001b[49m\u001b[43m)\u001b[49m\u001b[43m(\u001b[49m\u001b[43mwrapper\u001b[49m\u001b[43m,\u001b[49m\u001b[43m \u001b[49m\u001b[38;5;241;43m*\u001b[39;49m\u001b[38;5;241;43m*\u001b[39;49m\u001b[43mkwargs\u001b[49m\u001b[43m)\u001b[49m\n\u001b[1;32m    921\u001b[0m \u001b[38;5;28;01mfinally\u001b[39;00m:\n\u001b[1;32m    922\u001b[0m     t\u001b[38;5;241m.\u001b[39mclose()\n",
      "File \u001b[0;32m~/local/anaconda/envs/homeland/lib/python3.9/site-packages/pandas/core/frame.py:10037\u001b[0m, in \u001b[0;36mDataFrame.apply\u001b[0;34m(self, func, axis, raw, result_type, args, by_row, **kwargs)\u001b[0m\n\u001b[1;32m  10025\u001b[0m \u001b[38;5;28;01mfrom\u001b[39;00m \u001b[38;5;21;01mpandas\u001b[39;00m\u001b[38;5;21;01m.\u001b[39;00m\u001b[38;5;21;01mcore\u001b[39;00m\u001b[38;5;21;01m.\u001b[39;00m\u001b[38;5;21;01mapply\u001b[39;00m \u001b[38;5;28;01mimport\u001b[39;00m frame_apply\n\u001b[1;32m  10027\u001b[0m op \u001b[38;5;241m=\u001b[39m frame_apply(\n\u001b[1;32m  10028\u001b[0m     \u001b[38;5;28mself\u001b[39m,\n\u001b[1;32m  10029\u001b[0m     func\u001b[38;5;241m=\u001b[39mfunc,\n\u001b[0;32m   (...)\u001b[0m\n\u001b[1;32m  10035\u001b[0m     kwargs\u001b[38;5;241m=\u001b[39mkwargs,\n\u001b[1;32m  10036\u001b[0m )\n\u001b[0;32m> 10037\u001b[0m \u001b[38;5;28;01mreturn\u001b[39;00m \u001b[43mop\u001b[49m\u001b[38;5;241;43m.\u001b[39;49m\u001b[43mapply\u001b[49m\u001b[43m(\u001b[49m\u001b[43m)\u001b[49m\u001b[38;5;241m.\u001b[39m__finalize__(\u001b[38;5;28mself\u001b[39m, method\u001b[38;5;241m=\u001b[39m\u001b[38;5;124m\"\u001b[39m\u001b[38;5;124mapply\u001b[39m\u001b[38;5;124m\"\u001b[39m)\n",
      "File \u001b[0;32m~/local/anaconda/envs/homeland/lib/python3.9/site-packages/pandas/core/apply.py:831\u001b[0m, in \u001b[0;36mFrameApply.apply\u001b[0;34m(self)\u001b[0m\n\u001b[1;32m    828\u001b[0m \u001b[38;5;28;01melif\u001b[39;00m \u001b[38;5;28mself\u001b[39m\u001b[38;5;241m.\u001b[39mraw:\n\u001b[1;32m    829\u001b[0m     \u001b[38;5;28;01mreturn\u001b[39;00m \u001b[38;5;28mself\u001b[39m\u001b[38;5;241m.\u001b[39mapply_raw()\n\u001b[0;32m--> 831\u001b[0m \u001b[38;5;28;01mreturn\u001b[39;00m \u001b[38;5;28;43mself\u001b[39;49m\u001b[38;5;241;43m.\u001b[39;49m\u001b[43mapply_standard\u001b[49m\u001b[43m(\u001b[49m\u001b[43m)\u001b[49m\n",
      "File \u001b[0;32m~/local/anaconda/envs/homeland/lib/python3.9/site-packages/pandas/core/apply.py:957\u001b[0m, in \u001b[0;36mFrameApply.apply_standard\u001b[0;34m(self)\u001b[0m\n\u001b[1;32m    956\u001b[0m \u001b[38;5;28;01mdef\u001b[39;00m \u001b[38;5;21mapply_standard\u001b[39m(\u001b[38;5;28mself\u001b[39m):\n\u001b[0;32m--> 957\u001b[0m     results, res_index \u001b[38;5;241m=\u001b[39m \u001b[38;5;28;43mself\u001b[39;49m\u001b[38;5;241;43m.\u001b[39;49m\u001b[43mapply_series_generator\u001b[49m\u001b[43m(\u001b[49m\u001b[43m)\u001b[49m\n\u001b[1;32m    959\u001b[0m     \u001b[38;5;66;03m# wrap results\u001b[39;00m\n\u001b[1;32m    960\u001b[0m     \u001b[38;5;28;01mreturn\u001b[39;00m \u001b[38;5;28mself\u001b[39m\u001b[38;5;241m.\u001b[39mwrap_results(results, res_index)\n",
      "File \u001b[0;32m~/local/anaconda/envs/homeland/lib/python3.9/site-packages/pandas/core/apply.py:973\u001b[0m, in \u001b[0;36mFrameApply.apply_series_generator\u001b[0;34m(self)\u001b[0m\n\u001b[1;32m    970\u001b[0m \u001b[38;5;28;01mwith\u001b[39;00m option_context(\u001b[38;5;124m\"\u001b[39m\u001b[38;5;124mmode.chained_assignment\u001b[39m\u001b[38;5;124m\"\u001b[39m, \u001b[38;5;28;01mNone\u001b[39;00m):\n\u001b[1;32m    971\u001b[0m     \u001b[38;5;28;01mfor\u001b[39;00m i, v \u001b[38;5;129;01min\u001b[39;00m \u001b[38;5;28menumerate\u001b[39m(series_gen):\n\u001b[1;32m    972\u001b[0m         \u001b[38;5;66;03m# ignore SettingWithCopy here in case the user mutates\u001b[39;00m\n\u001b[0;32m--> 973\u001b[0m         results[i] \u001b[38;5;241m=\u001b[39m \u001b[38;5;28;43mself\u001b[39;49m\u001b[38;5;241;43m.\u001b[39;49m\u001b[43mfunc\u001b[49m\u001b[43m(\u001b[49m\u001b[43mv\u001b[49m\u001b[43m,\u001b[49m\u001b[43m \u001b[49m\u001b[38;5;241;43m*\u001b[39;49m\u001b[38;5;28;43mself\u001b[39;49m\u001b[38;5;241;43m.\u001b[39;49m\u001b[43margs\u001b[49m\u001b[43m,\u001b[49m\u001b[43m \u001b[49m\u001b[38;5;241;43m*\u001b[39;49m\u001b[38;5;241;43m*\u001b[39;49m\u001b[38;5;28;43mself\u001b[39;49m\u001b[38;5;241;43m.\u001b[39;49m\u001b[43mkwargs\u001b[49m\u001b[43m)\u001b[49m\n\u001b[1;32m    974\u001b[0m         \u001b[38;5;28;01mif\u001b[39;00m \u001b[38;5;28misinstance\u001b[39m(results[i], ABCSeries):\n\u001b[1;32m    975\u001b[0m             \u001b[38;5;66;03m# If we have a view on v, we need to make a copy because\u001b[39;00m\n\u001b[1;32m    976\u001b[0m             \u001b[38;5;66;03m#  series_generator will swap out the underlying data\u001b[39;00m\n\u001b[1;32m    977\u001b[0m             results[i] \u001b[38;5;241m=\u001b[39m results[i]\u001b[38;5;241m.\u001b[39mcopy(deep\u001b[38;5;241m=\u001b[39m\u001b[38;5;28;01mFalse\u001b[39;00m)\n",
      "File \u001b[0;32m~/local/anaconda/envs/homeland/lib/python3.9/site-packages/tqdm/std.py:915\u001b[0m, in \u001b[0;36mtqdm.pandas.<locals>.inner_generator.<locals>.inner.<locals>.wrapper\u001b[0;34m(*args, **kwargs)\u001b[0m\n\u001b[1;32m    909\u001b[0m \u001b[38;5;28;01mdef\u001b[39;00m \u001b[38;5;21mwrapper\u001b[39m(\u001b[38;5;241m*\u001b[39margs, \u001b[38;5;241m*\u001b[39m\u001b[38;5;241m*\u001b[39mkwargs):\n\u001b[1;32m    910\u001b[0m     \u001b[38;5;66;03m# update tbar correctly\u001b[39;00m\n\u001b[1;32m    911\u001b[0m     \u001b[38;5;66;03m# it seems `pandas apply` calls `func` twice\u001b[39;00m\n\u001b[1;32m    912\u001b[0m     \u001b[38;5;66;03m# on the first column/row to decide whether it can\u001b[39;00m\n\u001b[1;32m    913\u001b[0m     \u001b[38;5;66;03m# take a fast or slow code path; so stop when t.total==t.n\u001b[39;00m\n\u001b[1;32m    914\u001b[0m     t\u001b[38;5;241m.\u001b[39mupdate(n\u001b[38;5;241m=\u001b[39m\u001b[38;5;241m1\u001b[39m \u001b[38;5;28;01mif\u001b[39;00m \u001b[38;5;129;01mnot\u001b[39;00m t\u001b[38;5;241m.\u001b[39mtotal \u001b[38;5;129;01mor\u001b[39;00m t\u001b[38;5;241m.\u001b[39mn \u001b[38;5;241m<\u001b[39m t\u001b[38;5;241m.\u001b[39mtotal \u001b[38;5;28;01melse\u001b[39;00m \u001b[38;5;241m0\u001b[39m)\n\u001b[0;32m--> 915\u001b[0m     \u001b[38;5;28;01mreturn\u001b[39;00m \u001b[43mfunc\u001b[49m\u001b[43m(\u001b[49m\u001b[38;5;241;43m*\u001b[39;49m\u001b[43margs\u001b[49m\u001b[43m,\u001b[49m\u001b[43m \u001b[49m\u001b[38;5;241;43m*\u001b[39;49m\u001b[38;5;241;43m*\u001b[39;49m\u001b[43mkwargs\u001b[49m\u001b[43m)\u001b[49m\n",
      "Cell \u001b[0;32mIn[32], line 10\u001b[0m, in \u001b[0;36msave_images\u001b[0;34m(row)\u001b[0m\n\u001b[1;32m      8\u001b[0m fp \u001b[38;5;241m=\u001b[39m dst_dir\u001b[38;5;241m.\u001b[39mjoinpath(row[\u001b[38;5;124m'\u001b[39m\u001b[38;5;124mfilename\u001b[39m\u001b[38;5;124m'\u001b[39m])\u001b[38;5;241m.\u001b[39mabsolute()\n\u001b[1;32m      9\u001b[0m src \u001b[38;5;241m=\u001b[39m Path(\u001b[38;5;124m'\u001b[39m\u001b[38;5;124m./data/images/\u001b[39m\u001b[38;5;124m'\u001b[39m)\u001b[38;5;241m.\u001b[39mjoinpath(row[\u001b[38;5;124m'\u001b[39m\u001b[38;5;124mfilename\u001b[39m\u001b[38;5;124m'\u001b[39m])\u001b[38;5;241m.\u001b[39mabsolute()\n\u001b[0;32m---> 10\u001b[0m \u001b[43mshutil\u001b[49m\u001b[38;5;241;43m.\u001b[39;49m\u001b[43mcopy\u001b[49m\u001b[43m(\u001b[49m\u001b[38;5;28;43mstr\u001b[39;49m\u001b[43m(\u001b[49m\u001b[43msrc\u001b[49m\u001b[43m)\u001b[49m\u001b[43m,\u001b[49m\u001b[43m \u001b[49m\u001b[38;5;28;43mstr\u001b[39;49m\u001b[43m(\u001b[49m\u001b[43mfp\u001b[49m\u001b[43m)\u001b[49m\u001b[43m)\u001b[49m\n",
      "File \u001b[0;32m~/local/anaconda/envs/homeland/lib/python3.9/shutil.py:427\u001b[0m, in \u001b[0;36mcopy\u001b[0;34m(src, dst, follow_symlinks)\u001b[0m\n\u001b[1;32m    425\u001b[0m \u001b[38;5;28;01mif\u001b[39;00m os\u001b[38;5;241m.\u001b[39mpath\u001b[38;5;241m.\u001b[39misdir(dst):\n\u001b[1;32m    426\u001b[0m     dst \u001b[38;5;241m=\u001b[39m os\u001b[38;5;241m.\u001b[39mpath\u001b[38;5;241m.\u001b[39mjoin(dst, os\u001b[38;5;241m.\u001b[39mpath\u001b[38;5;241m.\u001b[39mbasename(src))\n\u001b[0;32m--> 427\u001b[0m \u001b[43mcopyfile\u001b[49m\u001b[43m(\u001b[49m\u001b[43msrc\u001b[49m\u001b[43m,\u001b[49m\u001b[43m \u001b[49m\u001b[43mdst\u001b[49m\u001b[43m,\u001b[49m\u001b[43m \u001b[49m\u001b[43mfollow_symlinks\u001b[49m\u001b[38;5;241;43m=\u001b[39;49m\u001b[43mfollow_symlinks\u001b[49m\u001b[43m)\u001b[49m\n\u001b[1;32m    428\u001b[0m copymode(src, dst, follow_symlinks\u001b[38;5;241m=\u001b[39mfollow_symlinks)\n\u001b[1;32m    429\u001b[0m \u001b[38;5;28;01mreturn\u001b[39;00m dst\n",
      "File \u001b[0;32m~/local/anaconda/envs/homeland/lib/python3.9/shutil.py:277\u001b[0m, in \u001b[0;36mcopyfile\u001b[0;34m(src, dst, follow_symlinks)\u001b[0m\n\u001b[1;32m    275\u001b[0m \u001b[38;5;28;01melif\u001b[39;00m _USE_CP_SENDFILE:\n\u001b[1;32m    276\u001b[0m     \u001b[38;5;28;01mtry\u001b[39;00m:\n\u001b[0;32m--> 277\u001b[0m         \u001b[43m_fastcopy_sendfile\u001b[49m\u001b[43m(\u001b[49m\u001b[43mfsrc\u001b[49m\u001b[43m,\u001b[49m\u001b[43m \u001b[49m\u001b[43mfdst\u001b[49m\u001b[43m)\u001b[49m\n\u001b[1;32m    278\u001b[0m         \u001b[38;5;28;01mreturn\u001b[39;00m dst\n\u001b[1;32m    279\u001b[0m     \u001b[38;5;28;01mexcept\u001b[39;00m _GiveupOnFastCopy:\n",
      "File \u001b[0;32m~/local/anaconda/envs/homeland/lib/python3.9/shutil.py:152\u001b[0m, in \u001b[0;36m_fastcopy_sendfile\u001b[0;34m(fsrc, fdst)\u001b[0m\n\u001b[1;32m    150\u001b[0m \u001b[38;5;28;01mwhile\u001b[39;00m \u001b[38;5;28;01mTrue\u001b[39;00m:\n\u001b[1;32m    151\u001b[0m     \u001b[38;5;28;01mtry\u001b[39;00m:\n\u001b[0;32m--> 152\u001b[0m         sent \u001b[38;5;241m=\u001b[39m \u001b[43mos\u001b[49m\u001b[38;5;241;43m.\u001b[39;49m\u001b[43msendfile\u001b[49m\u001b[43m(\u001b[49m\u001b[43moutfd\u001b[49m\u001b[43m,\u001b[49m\u001b[43m \u001b[49m\u001b[43minfd\u001b[49m\u001b[43m,\u001b[49m\u001b[43m \u001b[49m\u001b[43moffset\u001b[49m\u001b[43m,\u001b[49m\u001b[43m \u001b[49m\u001b[43mblocksize\u001b[49m\u001b[43m)\u001b[49m\n\u001b[1;32m    153\u001b[0m     \u001b[38;5;28;01mexcept\u001b[39;00m \u001b[38;5;167;01mOSError\u001b[39;00m \u001b[38;5;28;01mas\u001b[39;00m err:\n\u001b[1;32m    154\u001b[0m         \u001b[38;5;66;03m# ...in oder to have a more informative exception.\u001b[39;00m\n\u001b[1;32m    155\u001b[0m         err\u001b[38;5;241m.\u001b[39mfilename \u001b[38;5;241m=\u001b[39m fsrc\u001b[38;5;241m.\u001b[39mname\n",
      "\u001b[0;31mKeyboardInterrupt\u001b[0m: "
     ]
    }
   ],
   "source": [
    "tqdm().pandas()\n",
    "df.progress_apply(save_images, axis=1)"
   ]
  },
  {
   "cell_type": "code",
   "execution_count": 48,
   "id": "416a260a-9c5c-4791-bc4c-57500b1167d3",
   "metadata": {},
   "outputs": [],
   "source": [
    "def detect_blur_fft(image, size=60, thresh=10, vis=False):\n",
    "    # grab the dimensions of the image and use the dimensions to\n",
    "    # derive the center (x, y)-coordinates\n",
    "    (h, w) = image.shape\n",
    "    (cX, cY) = (int(w / 2.0), int(h / 2.0))\n",
    "    fft = np.fft.fft2(image)\n",
    "    fftShift = np.fft.fftshift(fft)\n",
    "    fftShift[cY - size:cY + size, cX - size:cX + size] = 0\n",
    "    fftShift = np.fft.ifftshift(fftShift)\n",
    "    recon = np.fft.ifft2(fftShift)\n",
    "    # compute the magnitude spectrum of the reconstructed image,\n",
    "    # then compute the mean of the magnitude values\n",
    "    magnitude = 20 * np.log(np.abs(recon))\n",
    "    mean = np.mean(magnitude)\n",
    "    # the image will be considered \"blurry\" if the mean value of the\n",
    "    # magnitudes is less than the threshold value\n",
    "    return (mean, mean <= thresh)\n",
    "    # check to see if we are visualizing our output\n",
    "    # if vis:\n",
    "    #     # compute the magnitude spectrum of the transform\n",
    "    #     magnitude = 20 * np.log(np.abs(fftShift))\n",
    "    #     # display the original input image\n",
    "    #     (fig, ax) = plt.subplots(1, 2, )\n",
    "    #     ax[0].imshow(image, cmap=\"gray\")\n",
    "    #     ax[0].set_title(\"Input\")\n",
    "    #     ax[0].set_xticks([])\n",
    "    #     ax[0].set_yticks([])\n",
    "    #     # display the magnitude image\n",
    "    #     ax[1].imshow(magnitude, cmap=\"gray\")\n",
    "    #     ax[1].set_title(\"Magnitude Spectrum\")\n",
    "    #     ax[1].set_xticks([])\n",
    "    #     ax[1].set_yticks([])\n",
    "    #     # show our plots\n",
    "    #     plt.show()"
   ]
  },
  {
   "cell_type": "code",
   "execution_count": 71,
   "id": "da97f168-85ef-4d49-ab19-4753a6390006",
   "metadata": {},
   "outputs": [
    {
     "name": "stdout",
     "output_type": "stream",
     "text": [
      "82.47300451604134 False\n"
     ]
    },
    {
     "data": {
      "image/jpeg": "[encoded data removed]",
      "image/png": "[encoded data removed]",
      "text/plain": [
       "<PIL.Image.Image image mode=L size=98x99>"
      ]
     },
     "execution_count": 71,
     "metadata": {},
     "output_type": "execute_result"
    }
   ],
   "source": [
    "src = Path('./data/images').joinpath(df.iloc[]['filename'])\n",
    "img = cv2.imread(str(src))\n",
    "gray = cv2.cvtColor(img, cv2.COLOR_BGR2GRAY)\n",
    "mean, blurry = detect_blur_fft(gray)\n",
    "print(mean, blurry)\n",
    "Image.fromarray(gray)"
   ]
  },
  {
   "cell_type": "code",
   "execution_count": 50,
   "id": "4e3d260a-2e69-4844-a47e-786ff6e91ff7",
   "metadata": {},
   "outputs": [
    {
     "data": {
      "text/plain": [
       "86.59232793594244"
      ]
     },
     "execution_count": 50,
     "metadata": {},
     "output_type": "execute_result"
    }
   ],
   "source": [
    "mean"
   ]
  },
  {
   "cell_type": "code",
   "execution_count": 51,
   "id": "4ab43339-441d-46d6-a0eb-15ea4354ef06",
   "metadata": {},
   "outputs": [
    {
     "data": {
      "text/plain": [
       "False"
      ]
     },
     "execution_count": 51,
     "metadata": {},
     "output_type": "execute_result"
    }
   ],
   "source": [
    "blurry"
   ]
  },
  {
   "cell_type": "code",
   "execution_count": null,
   "id": "27e9788c-c7a5-407d-85e6-c16f98a426fb",
   "metadata": {},
   "outputs": [],
   "source": []
  }
 ],
 "metadata": {
  "kernelspec": {
   "display_name": "Python 3 (ipykernel)",
   "language": "python",
   "name": "python3"
  },
  "language_info": {
   "codemirror_mode": {
    "name": "ipython",
    "version": 3
   },
   "file_extension": ".py",
   "mimetype": "text/x-python",
   "name": "python",
   "nbconvert_exporter": "python",
   "pygments_lexer": "ipython3",
   "version": "3.9.17"
  }
 },
 "nbformat": 4,
 "nbformat_minor": 5
}
