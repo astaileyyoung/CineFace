{
 "cells": [
  {
   "cell_type": "code",
   "execution_count": 2,
   "id": "f31ece81-9511-4070-b4fc-fc6be28b8ba8",
   "metadata": {},
   "outputs": [],
   "source": [
    "from pathlib import Path \n",
    "\n",
    "import numpy as np\n",
    "import pandas as pd\n",
    "import sqlalchemy as db\n",
    "from tqdm.auto import tqdm\n",
    "from utils import parse_filename, format_episode_name"
   ]
  },
  {
   "cell_type": "code",
   "execution_count": 3,
   "id": "a9e89694-ef23-4e36-919e-988675f7278b",
   "metadata": {},
   "outputs": [],
   "source": [
    "username = 'amos'\n",
    "password = 'M0$hicat'\n",
    "host = '192.168.0.131'\n",
    "port = '3306'\n",
    "database = 'CineFace'"
   ]
  },
  {
   "cell_type": "code",
   "execution_count": 4,
   "id": "13f798e2-abac-47e7-b84c-ba6b20b5d3b7",
   "metadata": {},
   "outputs": [],
   "source": [
    "connection_string = f'mysql+pymysql://{username}:{password}@{host}:{port}/{database}'\n",
    "engine = db.create_engine(connection_string)\n",
    "conn = engine.connect()"
   ]
  },
  {
   "cell_type": "code",
   "execution_count": 5,
   "id": "ca59fb91-87cd-4b27-93d3-609a8fe56413",
   "metadata": {
    "scrolled": true
   },
   "outputs": [
    {
     "data": {
      "application/vnd.jupyter.widget-view+json": {
       "model_id": "567e29f50c8540f88aefad19e4e89645",
       "version_major": 2,
       "version_minor": 0
      },
      "text/plain": [
       "  0%|          | 0/2 [00:00<?, ?it/s]"
      ]
     },
     "metadata": {},
     "output_type": "display_data"
    },
    {
     "data": {
      "application/vnd.jupyter.widget-view+json": {
       "model_id": "df2ee0e4c8314595a8638243fb429df8",
       "version_major": 2,
       "version_minor": 0
      },
      "text/plain": [
       "  0%|          | 0/249535 [00:00<?, ?it/s]"
      ]
     },
     "metadata": {},
     "output_type": "display_data"
    },
    {
     "data": {
      "application/vnd.jupyter.widget-view+json": {
       "model_id": "12cf82c9c883429e846e10dd59006a69",
       "version_major": 2,
       "version_minor": 0
      },
      "text/plain": [
       "  0%|          | 0/462487 [00:00<?, ?it/s]"
      ]
     },
     "metadata": {},
     "output_type": "display_data"
    },
    {
     "data": {
      "text/html": [
       "<div>\n",
       "<style scoped>\n",
       "    .dataframe tbody tr th:only-of-type {\n",
       "        vertical-align: middle;\n",
       "    }\n",
       "\n",
       "    .dataframe tbody tr th {\n",
       "        vertical-align: top;\n",
       "    }\n",
       "\n",
       "    .dataframe thead th {\n",
       "        text-align: right;\n",
       "    }\n",
       "</style>\n",
       "<table border=\"1\" class=\"dataframe\">\n",
       "  <thead>\n",
       "    <tr style=\"text-align: right;\">\n",
       "      <th></th>\n",
       "      <th>filepath</th>\n",
       "      <th>encoding</th>\n",
       "      <th>series_id</th>\n",
       "      <th>season</th>\n",
       "      <th>episode</th>\n",
       "      <th>frame_num</th>\n",
       "      <th>face_num</th>\n",
       "    </tr>\n",
       "  </thead>\n",
       "  <tbody>\n",
       "    <tr>\n",
       "      <th>0</th>\n",
       "      <td>data/encodings/homeland_2011_796960/S05E04_390...</td>\n",
       "      <td>[-0.11495647, 0.09172723, 0.04678859, -0.03902...</td>\n",
       "      <td>796960</td>\n",
       "      <td>5</td>\n",
       "      <td>4</td>\n",
       "      <td>39048</td>\n",
       "      <td>0</td>\n",
       "    </tr>\n",
       "    <tr>\n",
       "      <th>1</th>\n",
       "      <td>data/encodings/homeland_2011_796960/S06E05_389...</td>\n",
       "      <td>[-0.02626337, 0.03598316, 0.01273727, -0.06370...</td>\n",
       "      <td>796960</td>\n",
       "      <td>6</td>\n",
       "      <td>5</td>\n",
       "      <td>38976</td>\n",
       "      <td>1</td>\n",
       "    </tr>\n",
       "    <tr>\n",
       "      <th>2</th>\n",
       "      <td>data/encodings/homeland_2011_796960/S01E01_429...</td>\n",
       "      <td>[-0.20737375, 0.15791413, 0.0521762, -0.079184...</td>\n",
       "      <td>796960</td>\n",
       "      <td>1</td>\n",
       "      <td>1</td>\n",
       "      <td>4296</td>\n",
       "      <td>0</td>\n",
       "    </tr>\n",
       "    <tr>\n",
       "      <th>3</th>\n",
       "      <td>data/encodings/homeland_2011_796960/S03E07_562...</td>\n",
       "      <td>[-0.07795181, 0.15547886, 0.15513685, -0.04811...</td>\n",
       "      <td>796960</td>\n",
       "      <td>3</td>\n",
       "      <td>7</td>\n",
       "      <td>56208</td>\n",
       "      <td>0</td>\n",
       "    </tr>\n",
       "    <tr>\n",
       "      <th>4</th>\n",
       "      <td>data/encodings/homeland_2011_796960/S07E04_111...</td>\n",
       "      <td>[-0.12568267, 0.18408981, 0.01248703, -0.04678...</td>\n",
       "      <td>796960</td>\n",
       "      <td>7</td>\n",
       "      <td>4</td>\n",
       "      <td>11112</td>\n",
       "      <td>0</td>\n",
       "    </tr>\n",
       "  </tbody>\n",
       "</table>\n",
       "</div>"
      ],
      "text/plain": [
       "                                            filepath  \\\n",
       "0  data/encodings/homeland_2011_796960/S05E04_390...   \n",
       "1  data/encodings/homeland_2011_796960/S06E05_389...   \n",
       "2  data/encodings/homeland_2011_796960/S01E01_429...   \n",
       "3  data/encodings/homeland_2011_796960/S03E07_562...   \n",
       "4  data/encodings/homeland_2011_796960/S07E04_111...   \n",
       "\n",
       "                                            encoding  series_id  season  \\\n",
       "0  [-0.11495647, 0.09172723, 0.04678859, -0.03902...     796960       5   \n",
       "1  [-0.02626337, 0.03598316, 0.01273727, -0.06370...     796960       6   \n",
       "2  [-0.20737375, 0.15791413, 0.0521762, -0.079184...     796960       1   \n",
       "3  [-0.07795181, 0.15547886, 0.15513685, -0.04811...     796960       3   \n",
       "4  [-0.12568267, 0.18408981, 0.01248703, -0.04678...     796960       7   \n",
       "\n",
       "   episode frame_num face_num  \n",
       "0        4     39048        0  \n",
       "1        5     38976        1  \n",
       "2        1      4296        0  \n",
       "3        7     56208        0  \n",
       "4        4     11112        0  "
      ]
     },
     "execution_count": 5,
     "metadata": {},
     "output_type": "execute_result"
    }
   ],
   "source": [
    "encodings_dir = Path('./data/encodings')\n",
    "subdirs = [x for x in encodings_dir.iterdir()]\n",
    "data = []\n",
    "for subdir in tqdm(subdirs, leave=True):\n",
    "    files = [x for x in subdir.iterdir() if x.suffix == '.npy']\n",
    "    for file in tqdm(files, leave=False):\n",
    "        e = np.load(str(file)).round(8)\n",
    "        row = parse_filename({'filepath': str(file)})\n",
    "        datum = {'filepath': str(file),\n",
    "                 'encoding': e}\n",
    "        datum = {**datum, **{k:v for k,v in row.items() if k not in datum.keys()}}\n",
    "        data.append(datum)\n",
    "df = pd.DataFrame(data)\n",
    "df.head()"
   ]
  },
  {
   "cell_type": "code",
   "execution_count": 6,
   "metadata": {},
   "outputs": [],
   "source": [
    "df['frame_num'] = df['frame_num'].astype(int)\n",
    "df['face_num'] = df['face_num'].astype(int)"
   ]
  },
  {
   "cell_type": "code",
   "execution_count": 8,
   "metadata": {},
   "outputs": [
    {
     "data": {
      "text/html": [
       "<div>\n",
       "<style scoped>\n",
       "    .dataframe tbody tr th:only-of-type {\n",
       "        vertical-align: middle;\n",
       "    }\n",
       "\n",
       "    .dataframe tbody tr th {\n",
       "        vertical-align: top;\n",
       "    }\n",
       "\n",
       "    .dataframe thead th {\n",
       "        text-align: right;\n",
       "    }\n",
       "</style>\n",
       "<table border=\"1\" class=\"dataframe\">\n",
       "  <thead>\n",
       "    <tr style=\"text-align: right;\">\n",
       "      <th></th>\n",
       "      <th>series_id</th>\n",
       "      <th>episode_id</th>\n",
       "      <th>season</th>\n",
       "      <th>episode</th>\n",
       "      <th>frame_num</th>\n",
       "      <th>face_num</th>\n",
       "      <th>img_height</th>\n",
       "      <th>img_width</th>\n",
       "      <th>x1</th>\n",
       "      <th>y1</th>\n",
       "      <th>x2</th>\n",
       "      <th>y2</th>\n",
       "      <th>area</th>\n",
       "      <th>pct_of_frame</th>\n",
       "      <th>encoding</th>\n",
       "    </tr>\n",
       "  </thead>\n",
       "  <tbody>\n",
       "    <tr>\n",
       "      <th>0</th>\n",
       "      <td>412142</td>\n",
       "      <td>606035</td>\n",
       "      <td>1</td>\n",
       "      <td>1</td>\n",
       "      <td>192</td>\n",
       "      <td>0</td>\n",
       "      <td>1080</td>\n",
       "      <td>1920</td>\n",
       "      <td>355</td>\n",
       "      <td>279</td>\n",
       "      <td>707</td>\n",
       "      <td>632</td>\n",
       "      <td>124256</td>\n",
       "      <td>0.060</td>\n",
       "      <td>None</td>\n",
       "    </tr>\n",
       "    <tr>\n",
       "      <th>1</th>\n",
       "      <td>412142</td>\n",
       "      <td>606035</td>\n",
       "      <td>1</td>\n",
       "      <td>1</td>\n",
       "      <td>216</td>\n",
       "      <td>0</td>\n",
       "      <td>1080</td>\n",
       "      <td>1920</td>\n",
       "      <td>734</td>\n",
       "      <td>285</td>\n",
       "      <td>1027</td>\n",
       "      <td>578</td>\n",
       "      <td>85849</td>\n",
       "      <td>0.041</td>\n",
       "      <td>None</td>\n",
       "    </tr>\n",
       "    <tr>\n",
       "      <th>2</th>\n",
       "      <td>412142</td>\n",
       "      <td>606035</td>\n",
       "      <td>1</td>\n",
       "      <td>1</td>\n",
       "      <td>216</td>\n",
       "      <td>1</td>\n",
       "      <td>1080</td>\n",
       "      <td>1920</td>\n",
       "      <td>71</td>\n",
       "      <td>154</td>\n",
       "      <td>213</td>\n",
       "      <td>296</td>\n",
       "      <td>20164</td>\n",
       "      <td>0.010</td>\n",
       "      <td>None</td>\n",
       "    </tr>\n",
       "    <tr>\n",
       "      <th>3</th>\n",
       "      <td>412142</td>\n",
       "      <td>606035</td>\n",
       "      <td>1</td>\n",
       "      <td>1</td>\n",
       "      <td>216</td>\n",
       "      <td>2</td>\n",
       "      <td>1080</td>\n",
       "      <td>1920</td>\n",
       "      <td>355</td>\n",
       "      <td>216</td>\n",
       "      <td>525</td>\n",
       "      <td>385</td>\n",
       "      <td>28730</td>\n",
       "      <td>0.014</td>\n",
       "      <td>None</td>\n",
       "    </tr>\n",
       "    <tr>\n",
       "      <th>4</th>\n",
       "      <td>412142</td>\n",
       "      <td>606035</td>\n",
       "      <td>1</td>\n",
       "      <td>1</td>\n",
       "      <td>240</td>\n",
       "      <td>0</td>\n",
       "      <td>1080</td>\n",
       "      <td>1920</td>\n",
       "      <td>640</td>\n",
       "      <td>208</td>\n",
       "      <td>992</td>\n",
       "      <td>560</td>\n",
       "      <td>123904</td>\n",
       "      <td>0.060</td>\n",
       "      <td>None</td>\n",
       "    </tr>\n",
       "  </tbody>\n",
       "</table>\n",
       "</div>"
      ],
      "text/plain": [
       "   series_id  episode_id  season  episode  frame_num  face_num  img_height  \\\n",
       "0     412142      606035       1        1        192         0        1080   \n",
       "1     412142      606035       1        1        216         0        1080   \n",
       "2     412142      606035       1        1        216         1        1080   \n",
       "3     412142      606035       1        1        216         2        1080   \n",
       "4     412142      606035       1        1        240         0        1080   \n",
       "\n",
       "   img_width   x1   y1    x2   y2    area  pct_of_frame encoding  \n",
       "0       1920  355  279   707  632  124256         0.060     None  \n",
       "1       1920  734  285  1027  578   85849         0.041     None  \n",
       "2       1920   71  154   213  296   20164         0.010     None  \n",
       "3       1920  355  216   525  385   28730         0.014     None  \n",
       "4       1920  640  208   992  560  123904         0.060     None  "
      ]
     },
     "execution_count": 8,
     "metadata": {},
     "output_type": "execute_result"
    }
   ],
   "source": [
    "faces_df = pd.read_sql_query('SELECT * FROM faces_bk;', conn)\n",
    "faces_df.head()"
   ]
  },
  {
   "cell_type": "code",
   "execution_count": 9,
   "metadata": {},
   "outputs": [
    {
     "data": {
      "text/html": [
       "<div>\n",
       "<style scoped>\n",
       "    .dataframe tbody tr th:only-of-type {\n",
       "        vertical-align: middle;\n",
       "    }\n",
       "\n",
       "    .dataframe tbody tr th {\n",
       "        vertical-align: top;\n",
       "    }\n",
       "\n",
       "    .dataframe thead th {\n",
       "        text-align: right;\n",
       "    }\n",
       "</style>\n",
       "<table border=\"1\" class=\"dataframe\">\n",
       "  <thead>\n",
       "    <tr style=\"text-align: right;\">\n",
       "      <th></th>\n",
       "      <th>series_id</th>\n",
       "      <th>episode_id</th>\n",
       "      <th>season</th>\n",
       "      <th>episode</th>\n",
       "      <th>frame_num</th>\n",
       "      <th>face_num</th>\n",
       "      <th>img_height</th>\n",
       "      <th>img_width</th>\n",
       "      <th>x1</th>\n",
       "      <th>y1</th>\n",
       "      <th>x2</th>\n",
       "      <th>y2</th>\n",
       "      <th>area</th>\n",
       "      <th>pct_of_frame</th>\n",
       "      <th>filepath</th>\n",
       "    </tr>\n",
       "  </thead>\n",
       "  <tbody>\n",
       "    <tr>\n",
       "      <th>0</th>\n",
       "      <td>412142</td>\n",
       "      <td>606035</td>\n",
       "      <td>1</td>\n",
       "      <td>1</td>\n",
       "      <td>192</td>\n",
       "      <td>0</td>\n",
       "      <td>1080</td>\n",
       "      <td>1920</td>\n",
       "      <td>355</td>\n",
       "      <td>279</td>\n",
       "      <td>707</td>\n",
       "      <td>632</td>\n",
       "      <td>124256</td>\n",
       "      <td>0.060</td>\n",
       "      <td>data/encodings/house_2004_0412142/S01E01_192_0...</td>\n",
       "    </tr>\n",
       "    <tr>\n",
       "      <th>1</th>\n",
       "      <td>412142</td>\n",
       "      <td>606035</td>\n",
       "      <td>1</td>\n",
       "      <td>1</td>\n",
       "      <td>216</td>\n",
       "      <td>0</td>\n",
       "      <td>1080</td>\n",
       "      <td>1920</td>\n",
       "      <td>734</td>\n",
       "      <td>285</td>\n",
       "      <td>1027</td>\n",
       "      <td>578</td>\n",
       "      <td>85849</td>\n",
       "      <td>0.041</td>\n",
       "      <td>data/encodings/house_2004_0412142/S01E01_216_0...</td>\n",
       "    </tr>\n",
       "    <tr>\n",
       "      <th>2</th>\n",
       "      <td>412142</td>\n",
       "      <td>606035</td>\n",
       "      <td>1</td>\n",
       "      <td>1</td>\n",
       "      <td>216</td>\n",
       "      <td>1</td>\n",
       "      <td>1080</td>\n",
       "      <td>1920</td>\n",
       "      <td>71</td>\n",
       "      <td>154</td>\n",
       "      <td>213</td>\n",
       "      <td>296</td>\n",
       "      <td>20164</td>\n",
       "      <td>0.010</td>\n",
       "      <td>data/encodings/house_2004_0412142/S01E01_216_1...</td>\n",
       "    </tr>\n",
       "    <tr>\n",
       "      <th>3</th>\n",
       "      <td>412142</td>\n",
       "      <td>606035</td>\n",
       "      <td>1</td>\n",
       "      <td>1</td>\n",
       "      <td>216</td>\n",
       "      <td>2</td>\n",
       "      <td>1080</td>\n",
       "      <td>1920</td>\n",
       "      <td>355</td>\n",
       "      <td>216</td>\n",
       "      <td>525</td>\n",
       "      <td>385</td>\n",
       "      <td>28730</td>\n",
       "      <td>0.014</td>\n",
       "      <td>data/encodings/house_2004_0412142/S01E01_216_2...</td>\n",
       "    </tr>\n",
       "    <tr>\n",
       "      <th>4</th>\n",
       "      <td>412142</td>\n",
       "      <td>606035</td>\n",
       "      <td>1</td>\n",
       "      <td>1</td>\n",
       "      <td>240</td>\n",
       "      <td>0</td>\n",
       "      <td>1080</td>\n",
       "      <td>1920</td>\n",
       "      <td>640</td>\n",
       "      <td>208</td>\n",
       "      <td>992</td>\n",
       "      <td>560</td>\n",
       "      <td>123904</td>\n",
       "      <td>0.060</td>\n",
       "      <td>data/encodings/house_2004_0412142/S01E01_240_0...</td>\n",
       "    </tr>\n",
       "  </tbody>\n",
       "</table>\n",
       "</div>"
      ],
      "text/plain": [
       "   series_id  episode_id  season  episode  frame_num  face_num  img_height  \\\n",
       "0     412142      606035       1        1        192         0        1080   \n",
       "1     412142      606035       1        1        216         0        1080   \n",
       "2     412142      606035       1        1        216         1        1080   \n",
       "3     412142      606035       1        1        216         2        1080   \n",
       "4     412142      606035       1        1        240         0        1080   \n",
       "\n",
       "   img_width   x1   y1    x2   y2    area  pct_of_frame  \\\n",
       "0       1920  355  279   707  632  124256         0.060   \n",
       "1       1920  734  285  1027  578   85849         0.041   \n",
       "2       1920   71  154   213  296   20164         0.010   \n",
       "3       1920  355  216   525  385   28730         0.014   \n",
       "4       1920  640  208   992  560  123904         0.060   \n",
       "\n",
       "                                            filepath  \n",
       "0  data/encodings/house_2004_0412142/S01E01_192_0...  \n",
       "1  data/encodings/house_2004_0412142/S01E01_216_0...  \n",
       "2  data/encodings/house_2004_0412142/S01E01_216_1...  \n",
       "3  data/encodings/house_2004_0412142/S01E01_216_2...  \n",
       "4  data/encodings/house_2004_0412142/S01E01_240_0...  "
      ]
     },
     "execution_count": 9,
     "metadata": {},
     "output_type": "execute_result"
    }
   ],
   "source": [
    "combined = faces_df.drop('encoding', axis=1).merge(df[['series_id', 'season', 'episode', 'frame_num', 'face_num', 'filepath']],\n",
    "                    how='left',\n",
    "                    on=['series_id', 'season', 'episode', 'frame_num', 'face_num'])\n",
    "combined.head()"
   ]
  },
  {
   "cell_type": "code",
   "execution_count": 10,
   "metadata": {},
   "outputs": [
    {
     "data": {
      "text/html": [
       "<div>\n",
       "<style scoped>\n",
       "    .dataframe tbody tr th:only-of-type {\n",
       "        vertical-align: middle;\n",
       "    }\n",
       "\n",
       "    .dataframe tbody tr th {\n",
       "        vertical-align: top;\n",
       "    }\n",
       "\n",
       "    .dataframe thead th {\n",
       "        text-align: right;\n",
       "    }\n",
       "</style>\n",
       "<table border=\"1\" class=\"dataframe\">\n",
       "  <thead>\n",
       "    <tr style=\"text-align: right;\">\n",
       "      <th></th>\n",
       "      <th>episode_id</th>\n",
       "      <th>title</th>\n",
       "      <th>year</th>\n",
       "    </tr>\n",
       "  </thead>\n",
       "  <tbody>\n",
       "    <tr>\n",
       "      <th>0</th>\n",
       "      <td>536514</td>\n",
       "      <td>After the Ball Is Over</td>\n",
       "      <td>2003.0</td>\n",
       "    </tr>\n",
       "    <tr>\n",
       "      <th>1</th>\n",
       "      <td>536515</td>\n",
       "      <td>Alamogordo, N.M.</td>\n",
       "      <td>2005.0</td>\n",
       "    </tr>\n",
       "    <tr>\n",
       "      <th>2</th>\n",
       "      <td>536516</td>\n",
       "      <td>Babylon</td>\n",
       "      <td>2003.0</td>\n",
       "    </tr>\n",
       "    <tr>\n",
       "      <th>3</th>\n",
       "      <td>536517</td>\n",
       "      <td>Black Blizzard</td>\n",
       "      <td>2003.0</td>\n",
       "    </tr>\n",
       "    <tr>\n",
       "      <th>4</th>\n",
       "      <td>536518</td>\n",
       "      <td>Cheyenne, WY</td>\n",
       "      <td>2005.0</td>\n",
       "    </tr>\n",
       "  </tbody>\n",
       "</table>\n",
       "</div>"
      ],
      "text/plain": [
       "   episode_id                   title    year\n",
       "0      536514  After the Ball Is Over  2003.0\n",
       "1      536515        Alamogordo, N.M.  2005.0\n",
       "2      536516                 Babylon  2003.0\n",
       "3      536517          Black Blizzard  2003.0\n",
       "4      536518            Cheyenne, WY  2005.0"
      ]
     },
     "execution_count": 10,
     "metadata": {},
     "output_type": "execute_result"
    }
   ],
   "source": [
    "episode_df = pd.read_sql_query('SELECT episode_id, title, year FROM episodes;', conn)\n",
    "episode_df.head()"
   ]
  },
  {
   "cell_type": "code",
   "execution_count": 11,
   "metadata": {},
   "outputs": [
    {
     "data": {
      "text/html": [
       "<div>\n",
       "<style scoped>\n",
       "    .dataframe tbody tr th:only-of-type {\n",
       "        vertical-align: middle;\n",
       "    }\n",
       "\n",
       "    .dataframe tbody tr th {\n",
       "        vertical-align: top;\n",
       "    }\n",
       "\n",
       "    .dataframe thead th {\n",
       "        text-align: right;\n",
       "    }\n",
       "</style>\n",
       "<table border=\"1\" class=\"dataframe\">\n",
       "  <thead>\n",
       "    <tr style=\"text-align: right;\">\n",
       "      <th></th>\n",
       "      <th>series_id</th>\n",
       "      <th>title</th>\n",
       "      <th>year</th>\n",
       "    </tr>\n",
       "  </thead>\n",
       "  <tbody>\n",
       "    <tr>\n",
       "      <th>0</th>\n",
       "      <td>412142</td>\n",
       "      <td>House</td>\n",
       "      <td>2004</td>\n",
       "    </tr>\n",
       "    <tr>\n",
       "      <th>1</th>\n",
       "      <td>1358522</td>\n",
       "      <td>White Collar</td>\n",
       "      <td>2009</td>\n",
       "    </tr>\n",
       "    <tr>\n",
       "      <th>2</th>\n",
       "      <td>1442437</td>\n",
       "      <td>Modern Family</td>\n",
       "      <td>2009</td>\n",
       "    </tr>\n",
       "    <tr>\n",
       "      <th>3</th>\n",
       "      <td>1632701</td>\n",
       "      <td>Suits</td>\n",
       "      <td>2011</td>\n",
       "    </tr>\n",
       "    <tr>\n",
       "      <th>4</th>\n",
       "      <td>1796960</td>\n",
       "      <td>Homeland</td>\n",
       "      <td>2011</td>\n",
       "    </tr>\n",
       "  </tbody>\n",
       "</table>\n",
       "</div>"
      ],
      "text/plain": [
       "   series_id          title  year\n",
       "0     412142          House  2004\n",
       "1    1358522   White Collar  2009\n",
       "2    1442437  Modern Family  2009\n",
       "3    1632701          Suits  2011\n",
       "4    1796960       Homeland  2011"
      ]
     },
     "execution_count": 11,
     "metadata": {},
     "output_type": "execute_result"
    }
   ],
   "source": [
    "series_df = pd.read_sql_query('SELECT series_id, title, year FROM series;', conn)\n",
    "series_df.head()"
   ]
  },
  {
   "cell_type": "code",
   "execution_count": 12,
   "metadata": {},
   "outputs": [],
   "source": [
    "def format_series_name(data,\n",
    "                       id_col='imdbID'):\n",
    "    title = data['title'].lower().replace(' ', '-')\n",
    "    year = data['year']\n",
    "    imdb_id = data[id_col]\n",
    "    name = f'{title}_{int(year)}_{int(imdb_id)}'\n",
    "    return name"
   ]
  },
  {
   "cell_type": "code",
   "execution_count": 14,
   "metadata": {},
   "outputs": [
    {
     "data": {
      "application/vnd.jupyter.widget-view+json": {
       "model_id": "8f57970b4b0e49a1ad6bbbda33c32dd1",
       "version_major": 2,
       "version_minor": 0
      },
      "text/plain": [
       "  0%|          | 0/8 [00:00<?, ?it/s]"
      ]
     },
     "metadata": {},
     "output_type": "display_data"
    },
    {
     "data": {
      "application/vnd.jupyter.widget-view+json": {
       "model_id": "2935b285e5eb4a4c9ba0bcc781a75573",
       "version_major": 2,
       "version_minor": 0
      },
      "text/plain": [
       "  0%|          | 0/176 [00:00<?, ?it/s]"
      ]
     },
     "metadata": {},
     "output_type": "display_data"
    },
    {
     "data": {
      "application/vnd.jupyter.widget-view+json": {
       "model_id": "eb6e8c39345e49e791864ee341938d3a",
       "version_major": 2,
       "version_minor": 0
      },
      "text/plain": [
       "  0%|          | 0/81 [00:00<?, ?it/s]"
      ]
     },
     "metadata": {},
     "output_type": "display_data"
    },
    {
     "data": {
      "application/vnd.jupyter.widget-view+json": {
       "model_id": "331b293b103e4a588b95752977653186",
       "version_major": 2,
       "version_minor": 0
      },
      "text/plain": [
       "  0%|          | 0/250 [00:00<?, ?it/s]"
      ]
     },
     "metadata": {},
     "output_type": "display_data"
    },
    {
     "data": {
      "application/vnd.jupyter.widget-view+json": {
       "model_id": "9ec0c7f21dfd443682d4175bf5aa1165",
       "version_major": 2,
       "version_minor": 0
      },
      "text/plain": [
       "  0%|          | 0/134 [00:00<?, ?it/s]"
      ]
     },
     "metadata": {},
     "output_type": "display_data"
    },
    {
     "data": {
      "application/vnd.jupyter.widget-view+json": {
       "model_id": "3b81ee41ce71473388760af51e51a087",
       "version_major": 2,
       "version_minor": 0
      },
      "text/plain": [
       "  0%|          | 0/96 [00:00<?, ?it/s]"
      ]
     },
     "metadata": {},
     "output_type": "display_data"
    },
    {
     "data": {
      "application/vnd.jupyter.widget-view+json": {
       "model_id": "841aca529c744d97962afb18c8cd0b24",
       "version_major": 2,
       "version_minor": 0
      },
      "text/plain": [
       "  0%|          | 0/82 [00:00<?, ?it/s]"
      ]
     },
     "metadata": {},
     "output_type": "display_data"
    },
    {
     "data": {
      "application/vnd.jupyter.widget-view+json": {
       "model_id": "580c0783e3514618b057e9f923b5de74",
       "version_major": 2,
       "version_minor": 0
      },
      "text/plain": [
       "  0%|          | 0/35 [00:00<?, ?it/s]"
      ]
     },
     "metadata": {},
     "output_type": "display_data"
    },
    {
     "data": {
      "application/vnd.jupyter.widget-view+json": {
       "model_id": "2bb101754fd04752a25707bdae88286c",
       "version_major": 2,
       "version_minor": 0
      },
      "text/plain": [
       "  0%|          | 0/10 [00:00<?, ?it/s]"
      ]
     },
     "metadata": {},
     "output_type": "display_data"
    }
   ],
   "source": [
    "combined = combined.rename({'filepath': 'encoding_path'}, axis=1)\n",
    "eph = combined.assign(confidence=np.nan)\n",
    "eph = eph.merge(series_df,\n",
    "                how='left',\n",
    "                on='series_id')\n",
    "series_ids = eph['series_id'].unique()\n",
    "dst_dir = Path('./data/faces_new/').absolute()\n",
    "try:\n",
    "    Path.mkdir(dst_dir)\n",
    "except:\n",
    "    pass\n",
    "for series_id in tqdm(series_ids, leave=True):\n",
    "    series = eph[eph['series_id'] == series_id]\n",
    "    row = series.iloc[0]\n",
    "    name = format_series_name(row, id_col='series_id')\n",
    "    d = dst_dir.joinpath(name)\n",
    "    try:\n",
    "        Path.mkdir(d)\n",
    "    except: \n",
    "        pass\n",
    "    episode_ids = series['episode_id'].unique()\n",
    "    for episode_id in tqdm(episode_ids, leave=False):\n",
    "        temp = series[series['episode_id'] == episode_id]\n",
    "        r = temp.iloc[0]\n",
    "        fp = d.joinpath(f'{format_episode_name(r)}.csv')  \n",
    "        temp = temp.drop(['title', 'year'], axis=1) \n",
    "        temp.to_csv(str(fp))     "
   ]
  },
  {
   "cell_type": "code",
   "execution_count": 145,
   "metadata": {},
   "outputs": [
    {
     "data": {
      "text/html": [
       "<div>\n",
       "<style scoped>\n",
       "    .dataframe tbody tr th:only-of-type {\n",
       "        vertical-align: middle;\n",
       "    }\n",
       "\n",
       "    .dataframe tbody tr th {\n",
       "        vertical-align: top;\n",
       "    }\n",
       "\n",
       "    .dataframe thead th {\n",
       "        text-align: right;\n",
       "    }\n",
       "</style>\n",
       "<table border=\"1\" class=\"dataframe\">\n",
       "  <thead>\n",
       "    <tr style=\"text-align: right;\">\n",
       "      <th></th>\n",
       "      <th>series_id</th>\n",
       "      <th>episode_id</th>\n",
       "      <th>season</th>\n",
       "      <th>episode</th>\n",
       "      <th>frame_num</th>\n",
       "      <th>face_num</th>\n",
       "      <th>img_height</th>\n",
       "      <th>img_width</th>\n",
       "      <th>x1</th>\n",
       "      <th>y1</th>\n",
       "      <th>x2</th>\n",
       "      <th>y2</th>\n",
       "      <th>area</th>\n",
       "      <th>pct_of_frame</th>\n",
       "      <th>encoding</th>\n",
       "      <th>confidence</th>\n",
       "      <th>title</th>\n",
       "      <th>year</th>\n",
       "    </tr>\n",
       "  </thead>\n",
       "  <tbody>\n",
       "    <tr>\n",
       "      <th>0</th>\n",
       "      <td>412142</td>\n",
       "      <td>606035</td>\n",
       "      <td>1</td>\n",
       "      <td>1</td>\n",
       "      <td>192</td>\n",
       "      <td>0</td>\n",
       "      <td>1080</td>\n",
       "      <td>1920</td>\n",
       "      <td>355</td>\n",
       "      <td>279</td>\n",
       "      <td>707</td>\n",
       "      <td>632</td>\n",
       "      <td>124256</td>\n",
       "      <td>0.060</td>\n",
       "      <td>[-0.10115475207567215, 0.11778414249420166, 0....</td>\n",
       "      <td>NaN</td>\n",
       "      <td>Pilot</td>\n",
       "      <td>2004.0</td>\n",
       "    </tr>\n",
       "    <tr>\n",
       "      <th>1</th>\n",
       "      <td>412142</td>\n",
       "      <td>606035</td>\n",
       "      <td>1</td>\n",
       "      <td>1</td>\n",
       "      <td>216</td>\n",
       "      <td>0</td>\n",
       "      <td>1080</td>\n",
       "      <td>1920</td>\n",
       "      <td>734</td>\n",
       "      <td>285</td>\n",
       "      <td>1027</td>\n",
       "      <td>578</td>\n",
       "      <td>85849</td>\n",
       "      <td>0.041</td>\n",
       "      <td>[-0.08282647281885147, 0.10644861310720444, 0....</td>\n",
       "      <td>NaN</td>\n",
       "      <td>Pilot</td>\n",
       "      <td>2004.0</td>\n",
       "    </tr>\n",
       "    <tr>\n",
       "      <th>2</th>\n",
       "      <td>412142</td>\n",
       "      <td>606035</td>\n",
       "      <td>1</td>\n",
       "      <td>1</td>\n",
       "      <td>216</td>\n",
       "      <td>1</td>\n",
       "      <td>1080</td>\n",
       "      <td>1920</td>\n",
       "      <td>71</td>\n",
       "      <td>154</td>\n",
       "      <td>213</td>\n",
       "      <td>296</td>\n",
       "      <td>20164</td>\n",
       "      <td>0.010</td>\n",
       "      <td>[-0.18955311179161072, 0.09923666715621948, 0....</td>\n",
       "      <td>NaN</td>\n",
       "      <td>Pilot</td>\n",
       "      <td>2004.0</td>\n",
       "    </tr>\n",
       "    <tr>\n",
       "      <th>3</th>\n",
       "      <td>412142</td>\n",
       "      <td>606035</td>\n",
       "      <td>1</td>\n",
       "      <td>1</td>\n",
       "      <td>216</td>\n",
       "      <td>2</td>\n",
       "      <td>1080</td>\n",
       "      <td>1920</td>\n",
       "      <td>355</td>\n",
       "      <td>216</td>\n",
       "      <td>525</td>\n",
       "      <td>385</td>\n",
       "      <td>28730</td>\n",
       "      <td>0.014</td>\n",
       "      <td>[-0.16009938716888428, 0.13064269721508026, 0....</td>\n",
       "      <td>NaN</td>\n",
       "      <td>Pilot</td>\n",
       "      <td>2004.0</td>\n",
       "    </tr>\n",
       "    <tr>\n",
       "      <th>4</th>\n",
       "      <td>412142</td>\n",
       "      <td>606035</td>\n",
       "      <td>1</td>\n",
       "      <td>1</td>\n",
       "      <td>240</td>\n",
       "      <td>0</td>\n",
       "      <td>1080</td>\n",
       "      <td>1920</td>\n",
       "      <td>640</td>\n",
       "      <td>208</td>\n",
       "      <td>992</td>\n",
       "      <td>560</td>\n",
       "      <td>123904</td>\n",
       "      <td>0.060</td>\n",
       "      <td>[-0.09131350368261337, -0.009009137749671936, ...</td>\n",
       "      <td>NaN</td>\n",
       "      <td>Pilot</td>\n",
       "      <td>2004.0</td>\n",
       "    </tr>\n",
       "  </tbody>\n",
       "</table>\n",
       "</div>"
      ],
      "text/plain": [
       "   series_id  episode_id  season  episode  frame_num  face_num  img_height  \\\n",
       "0     412142      606035       1        1        192         0        1080   \n",
       "1     412142      606035       1        1        216         0        1080   \n",
       "2     412142      606035       1        1        216         1        1080   \n",
       "3     412142      606035       1        1        216         2        1080   \n",
       "4     412142      606035       1        1        240         0        1080   \n",
       "\n",
       "   img_width   x1   y1    x2   y2    area  pct_of_frame  \\\n",
       "0       1920  355  279   707  632  124256         0.060   \n",
       "1       1920  734  285  1027  578   85849         0.041   \n",
       "2       1920   71  154   213  296   20164         0.010   \n",
       "3       1920  355  216   525  385   28730         0.014   \n",
       "4       1920  640  208   992  560  123904         0.060   \n",
       "\n",
       "                                            encoding  confidence  title  \\\n",
       "0  [-0.10115475207567215, 0.11778414249420166, 0....         NaN  Pilot   \n",
       "1  [-0.08282647281885147, 0.10644861310720444, 0....         NaN  Pilot   \n",
       "2  [-0.18955311179161072, 0.09923666715621948, 0....         NaN  Pilot   \n",
       "3  [-0.16009938716888428, 0.13064269721508026, 0....         NaN  Pilot   \n",
       "4  [-0.09131350368261337, -0.009009137749671936, ...         NaN  Pilot   \n",
       "\n",
       "     year  \n",
       "0  2004.0  \n",
       "1  2004.0  \n",
       "2  2004.0  \n",
       "3  2004.0  \n",
       "4  2004.0  "
      ]
     },
     "execution_count": 145,
     "metadata": {},
     "output_type": "execute_result"
    }
   ],
   "source": [
    "eph.head()"
   ]
  },
  {
   "cell_type": "code",
   "execution_count": 105,
   "metadata": {},
   "outputs": [
    {
     "data": {
      "text/plain": [
       "PosixPath('/home/amos/programs/CineFace/data/faces_new/across-the-universe_2022_8879940')"
      ]
     },
     "execution_count": 105,
     "metadata": {},
     "output_type": "execute_result"
    }
   ],
   "source": [
    "base_dir = Path('./data/faces_new')\n",
    "subdirs = [x for x in base_dir.iterdir()]\n",
    "for subdir in subdirs:\n",
    "    files = [x for x in subdir.iterdir()]\n",
    "    for file in files:\n",
    "        face_df = pd.read_csv(str(file), index_col=0)\n",
    "        "
   ]
  },
  {
   "cell_type": "code",
   "execution_count": 3,
   "metadata": {},
   "outputs": [
    {
     "data": {
      "text/html": [
       "<div>\n",
       "<style scoped>\n",
       "    .dataframe tbody tr th:only-of-type {\n",
       "        vertical-align: middle;\n",
       "    }\n",
       "\n",
       "    .dataframe tbody tr th {\n",
       "        vertical-align: top;\n",
       "    }\n",
       "\n",
       "    .dataframe thead th {\n",
       "        text-align: right;\n",
       "    }\n",
       "</style>\n",
       "<table border=\"1\" class=\"dataframe\">\n",
       "  <thead>\n",
       "    <tr style=\"text-align: right;\">\n",
       "      <th></th>\n",
       "      <th>series_id</th>\n",
       "      <th>episode_id</th>\n",
       "      <th>season</th>\n",
       "      <th>episode</th>\n",
       "      <th>frame_num</th>\n",
       "      <th>face_num</th>\n",
       "      <th>img_height</th>\n",
       "      <th>img_width</th>\n",
       "      <th>x1</th>\n",
       "      <th>y1</th>\n",
       "      <th>x2</th>\n",
       "      <th>y2</th>\n",
       "      <th>area</th>\n",
       "      <th>pct_of_frame</th>\n",
       "      <th>encoding</th>\n",
       "      <th>confidence</th>\n",
       "    </tr>\n",
       "  </thead>\n",
       "  <tbody>\n",
       "    <tr>\n",
       "      <th>2276</th>\n",
       "      <td>412142</td>\n",
       "      <td>606034</td>\n",
       "      <td>1</td>\n",
       "      <td>2</td>\n",
       "      <td>312</td>\n",
       "      <td>0</td>\n",
       "      <td>1080</td>\n",
       "      <td>1920</td>\n",
       "      <td>1146</td>\n",
       "      <td>183</td>\n",
       "      <td>1288</td>\n",
       "      <td>325</td>\n",
       "      <td>20164</td>\n",
       "      <td>0.010</td>\n",
       "      <td>[-0.12390631  0.07614616  0.11678329 -0.099798...</td>\n",
       "      <td>NaN</td>\n",
       "    </tr>\n",
       "    <tr>\n",
       "      <th>2277</th>\n",
       "      <td>412142</td>\n",
       "      <td>606034</td>\n",
       "      <td>1</td>\n",
       "      <td>2</td>\n",
       "      <td>312</td>\n",
       "      <td>1</td>\n",
       "      <td>1080</td>\n",
       "      <td>1920</td>\n",
       "      <td>647</td>\n",
       "      <td>130</td>\n",
       "      <td>817</td>\n",
       "      <td>299</td>\n",
       "      <td>28730</td>\n",
       "      <td>0.014</td>\n",
       "      <td>[-4.27038521e-02  1.74362659e-01 -6.98575750e-...</td>\n",
       "      <td>NaN</td>\n",
       "    </tr>\n",
       "    <tr>\n",
       "      <th>2278</th>\n",
       "      <td>412142</td>\n",
       "      <td>606034</td>\n",
       "      <td>1</td>\n",
       "      <td>2</td>\n",
       "      <td>312</td>\n",
       "      <td>2</td>\n",
       "      <td>1080</td>\n",
       "      <td>1920</td>\n",
       "      <td>1628</td>\n",
       "      <td>198</td>\n",
       "      <td>1797</td>\n",
       "      <td>368</td>\n",
       "      <td>28730</td>\n",
       "      <td>0.014</td>\n",
       "      <td>[-0.0387816   0.11706308 -0.03418145 -0.093032...</td>\n",
       "      <td>NaN</td>\n",
       "    </tr>\n",
       "    <tr>\n",
       "      <th>2279</th>\n",
       "      <td>412142</td>\n",
       "      <td>606034</td>\n",
       "      <td>1</td>\n",
       "      <td>2</td>\n",
       "      <td>336</td>\n",
       "      <td>0</td>\n",
       "      <td>1080</td>\n",
       "      <td>1920</td>\n",
       "      <td>1180</td>\n",
       "      <td>233</td>\n",
       "      <td>1350</td>\n",
       "      <td>403</td>\n",
       "      <td>28900</td>\n",
       "      <td>0.014</td>\n",
       "      <td>[-8.56636316e-02  4.53053080e-02  1.19709015e-...</td>\n",
       "      <td>NaN</td>\n",
       "    </tr>\n",
       "    <tr>\n",
       "      <th>2280</th>\n",
       "      <td>412142</td>\n",
       "      <td>606034</td>\n",
       "      <td>1</td>\n",
       "      <td>2</td>\n",
       "      <td>336</td>\n",
       "      <td>1</td>\n",
       "      <td>1080</td>\n",
       "      <td>1920</td>\n",
       "      <td>596</td>\n",
       "      <td>147</td>\n",
       "      <td>766</td>\n",
       "      <td>317</td>\n",
       "      <td>28900</td>\n",
       "      <td>0.014</td>\n",
       "      <td>[-3.18677612e-02  1.11289278e-01 -9.70213488e-...</td>\n",
       "      <td>NaN</td>\n",
       "    </tr>\n",
       "  </tbody>\n",
       "</table>\n",
       "</div>"
      ],
      "text/plain": [
       "      series_id  episode_id  season  episode  frame_num  face_num  img_height  \\\n",
       "2276     412142      606034       1        2        312         0        1080   \n",
       "2277     412142      606034       1        2        312         1        1080   \n",
       "2278     412142      606034       1        2        312         2        1080   \n",
       "2279     412142      606034       1        2        336         0        1080   \n",
       "2280     412142      606034       1        2        336         1        1080   \n",
       "\n",
       "      img_width    x1   y1    x2   y2   area  pct_of_frame  \\\n",
       "2276       1920  1146  183  1288  325  20164         0.010   \n",
       "2277       1920   647  130   817  299  28730         0.014   \n",
       "2278       1920  1628  198  1797  368  28730         0.014   \n",
       "2279       1920  1180  233  1350  403  28900         0.014   \n",
       "2280       1920   596  147   766  317  28900         0.014   \n",
       "\n",
       "                                               encoding  confidence  \n",
       "2276  [-0.12390631  0.07614616  0.11678329 -0.099798...         NaN  \n",
       "2277  [-4.27038521e-02  1.74362659e-01 -6.98575750e-...         NaN  \n",
       "2278  [-0.0387816   0.11706308 -0.03418145 -0.093032...         NaN  \n",
       "2279  [-8.56636316e-02  4.53053080e-02  1.19709015e-...         NaN  \n",
       "2280  [-3.18677612e-02  1.11289278e-01 -9.70213488e-...         NaN  "
      ]
     },
     "execution_count": 3,
     "metadata": {},
     "output_type": "execute_result"
    }
   ],
   "source": [
    "temp = pd.read_csv('./data/faces_new/house_2004_412142/S01E02.csv', index_col=0)\n",
    "temp.head()"
   ]
  },
  {
   "cell_type": "code",
   "execution_count": 16,
   "metadata": {},
   "outputs": [
    {
     "name": "stderr",
     "output_type": "stream",
     "text": [
      "/tmp/ipykernel_6356/1260474592.py:2: DeprecationWarning: The binary mode of fromstring is deprecated, as it behaves surprisingly on unicode inputs. Use frombuffer instead\n",
      "  encoding = np.fromstring(row['encoding'], dtype=np.uint8) \\\n"
     ]
    }
   ],
   "source": [
    "for idx, row in temp[:1].iterrows():\n",
    "    encoding = np.fromstring(row['encoding'], dtype=np.uint8) \\\n",
    "        if not pd.isnull(row['encoding']) else np.nan\n",
    "    \n"
   ]
  },
  {
   "cell_type": "code",
   "execution_count": 6,
   "metadata": {},
   "outputs": [
    {
     "data": {
      "text/plain": [
       "'[-0.12390631  0.07614616  0.11678329 -0.0997985  -0.08773655 -0.04309042\\n  0.06076267 -0.14244014  0.14825246 -0.05276699  0.20215906 -0.0340088\\n -0.26949546 -0.01933828 -0.0514079   0.12568706 -0.22719221 -0.19105817\\n -0.09496498 -0.01995986  0.04524636  0.04760112  0.01201146  0.11922956\\n -0.19961846 -0.20980765 -0.02525483 -0.12980998  0.06765667 -0.01994014\\n  0.04463937  0.07590622 -0.18922977  0.01173784  0.06832031  0.09709262\\n -0.04466827 -0.16053069  0.20023614 -0.02406869 -0.27431226 -0.09787033\\n  0.02818858  0.21709751  0.24486476 -0.0192653  -0.01601221 -0.12815627\\n  0.13381644 -0.32533035 -0.00484253  0.22556645  0.00439626  0.0992591\\n  0.03565243 -0.19268301  0.11221638  0.1286478  -0.26914591 -0.00612033\\n  0.06192154 -0.16558531  0.02380457 -0.07591818  0.11142398  0.02192428\\n -0.16445932 -0.11394823  0.17248364 -0.21480589 -0.05593668  0.15134929\\n -0.09576987 -0.22296187 -0.23300737 -0.02325273  0.4094032   0.22631662\\n -0.14975776  0.07008357 -0.09239125 -0.00525293  0.06747864  0.15845674\\n  0.01110436 -0.03325526 -0.11393594 -0.00538684  0.15588801 -0.04412394\\n  0.03666783  0.2919336  -0.01567321 -0.07327054  0.02325585  0.08544575\\n -0.12388242  0.06680378 -0.05652803  0.00070198  0.03591899  0.00060939\\n  0.0417364   0.08782868 -0.15858845  0.17414375 -0.02159146 -0.01602073\\n  0.00499183 -0.1815619  -0.01249154 -0.0166579   0.15074091 -0.29019135\\n  0.19524994  0.16444287 -0.01530536  0.16336329  0.04596546  0.06893176\\n -0.00198897 -0.09494856 -0.1624845  -0.08214928  0.08000992 -0.08799765\\n  0.05324158 -0.03949756]'"
      ]
     },
     "execution_count": 6,
     "metadata": {},
     "output_type": "execute_result"
    }
   ],
   "source": [
    "row['encoding']"
   ]
  },
  {
   "cell_type": "code",
   "execution_count": 64,
   "metadata": {},
   "outputs": [
    {
     "data": {
      "text/plain": [
       "'-0.12390631 0.07614616 0.11678329 -0.0997985 -0.08773655 -0.04309042\\n 0.06076267 -0.14244014 0.14825246 -0.05276699 0.20215906 -0.0340088\\n -0.26949546 -0.01933828 -0.0514079  0.12568706 -0.22719221 -0.19105817\\n -0.09496498 -0.01995986 0.04524636 0.04760112 0.01201146 0.11922956\\n -0.19961846 -0.20980765 -0.02525483 -0.12980998 0.06765667 -0.01994014\\n 0.04463937 0.07590622 -0.18922977 0.01173784 0.06832031 0.09709262\\n -0.04466827 -0.16053069 0.20023614 -0.02406869 -0.27431226 -0.09787033\\n 0.02818858 0.21709751 0.24486476 -0.0192653 -0.01601221 -0.12815627\\n 0.13381644 -0.32533035 -0.00484253 0.22556645 0.00439626 0.0992591\\n 0.03565243 -0.19268301 0.11221638 0.1286478 -0.26914591 -0.00612033\\n 0.06192154 -0.16558531 0.02380457 -0.07591818 0.11142398 0.02192428\\n -0.16445932 -0.11394823 0.17248364 -0.21480589 -0.05593668 0.15134929\\n -0.09576987 -0.22296187 -0.23300737 -0.02325273 0.4094032  0.22631662\\n -0.14975776 0.07008357 -0.09239125 -0.00525293 0.06747864 0.15845674\\n 0.01110436 -0.03325526 -0.11393594 -0.00538684 0.15588801 -0.04412394\\n 0.03666783 0.2919336 -0.01567321 -0.07327054 0.02325585 0.08544575\\n -0.12388242 0.06680378 -0.05652803 0.00070198 0.03591899 0.00060939\\n 0.0417364  0.08782868 -0.15858845 0.17414375 -0.02159146 -0.01602073\\n 0.00499183 -0.1815619 -0.01249154 -0.0166579  0.15074091 -0.29019135\\n 0.19524994 0.16444287 -0.01530536 0.16336329 0.04596546 0.06893176\\n -0.00198897 -0.09494856 -0.1624845 -0.08214928 0.08000992 -0.08799765\\n 0.05324158 -0.03949756'"
      ]
     },
     "execution_count": 64,
     "metadata": {},
     "output_type": "execute_result"
    }
   ],
   "source": [
    "t = re.sub(r'[^-.0-9\\s]', '', row['encoding']).replace('  ', ' ')\n",
    "t"
   ]
  },
  {
   "cell_type": "code",
   "execution_count": 65,
   "metadata": {},
   "outputs": [
    {
     "name": "stderr",
     "output_type": "stream",
     "text": [
      "/tmp/ipykernel_6356/3209414433.py:1: DeprecationWarning: The binary mode of fromstring is deprecated, as it behaves surprisingly on unicode inputs. Use frombuffer instead\n",
      "  a = np.fromstring(re.sub(r'[^-.0-9\\s]', '', row['encoding']))\n"
     ]
    },
    {
     "ename": "ValueError",
     "evalue": "string size must be a multiple of element size",
     "output_type": "error",
     "traceback": [
      "\u001b[0;31m---------------------------------------------------------------------------\u001b[0m",
      "\u001b[0;31mValueError\u001b[0m                                Traceback (most recent call last)",
      "\u001b[1;32m/home/amos/programs/CineFace/inject_encodings copy.ipynb Cell 19\u001b[0m line \u001b[0;36m1\n\u001b[0;32m----> <a href='vscode-notebook-cell:/home/amos/programs/CineFace/inject_encodings%20copy.ipynb#X23sZmlsZQ%3D%3D?line=0'>1</a>\u001b[0m a \u001b[39m=\u001b[39m np\u001b[39m.\u001b[39mfromstring(re\u001b[39m.\u001b[39msub(\u001b[39mr\u001b[39m\u001b[39m'\u001b[39m\u001b[39m[^-.0-9\u001b[39m\u001b[39m\\\u001b[39m\u001b[39ms]\u001b[39m\u001b[39m'\u001b[39m, \u001b[39m'\u001b[39m\u001b[39m'\u001b[39m, row[\u001b[39m'\u001b[39m\u001b[39mencoding\u001b[39m\u001b[39m'\u001b[39m]))\n",
      "\u001b[0;31mValueError\u001b[0m: string size must be a multiple of element size"
     ]
    }
   ],
   "source": [
    "a = np.fromstring(re.sub(r'[^-.0-9\\s]', '', row['encoding']))"
   ]
  },
  {
   "cell_type": "code",
   "execution_count": 28,
   "metadata": {},
   "outputs": [
    {
     "data": {
      "text/plain": [
       "array([], dtype=float64)"
      ]
     },
     "execution_count": 28,
     "metadata": {},
     "output_type": "execute_result"
    }
   ],
   "source": [
    "a"
   ]
  },
  {
   "cell_type": "code",
   "execution_count": 61,
   "metadata": {},
   "outputs": [
    {
     "data": {
      "text/plain": [
       "'-0.12390631 0.07614616 0.11678329 -0.0997985 -0.08773655 -0.04309042\\n 0.06076267 -0.14244014 0.14825246 -0.05276699 0.20215906 -0.0340088\\n -0.26949546 -0.01933828 -0.0514079  0.12568706 -0.22719221 -0.19105817\\n -0.09496498 -0.01995986 0.04524636 0.04760112 0.01201146 0.11922956\\n -0.19961846 -0.20980765 -0.02525483 -0.12980998 0.06765667 -0.01994014\\n 0.04463937 0.07590622 -0.18922977 0.01173784 0.06832031 0.09709262\\n -0.04466827 -0.16053069 0.20023614 -0.02406869 -0.27431226 -0.09787033\\n 0.02818858 0.21709751 0.24486476 -0.0192653 -0.01601221 -0.12815627\\n 0.13381644 -0.32533035 -0.00484253 0.22556645 0.00439626 0.0992591\\n 0.03565243 -0.19268301 0.11221638 0.1286478 -0.26914591 -0.00612033\\n 0.06192154 -0.16558531 0.02380457 -0.07591818 0.11142398 0.02192428\\n -0.16445932 -0.11394823 0.17248364 -0.21480589 -0.05593668 0.15134929\\n -0.09576987 -0.22296187 -0.23300737 -0.02325273 0.4094032  0.22631662\\n -0.14975776 0.07008357 -0.09239125 -0.00525293 0.06747864 0.15845674\\n 0.01110436 -0.03325526 -0.11393594 -0.00538684 0.15588801 -0.04412394\\n 0.03666783 0.2919336 -0.01567321 -0.07327054 0.02325585 0.08544575\\n -0.12388242 0.06680378 -0.05652803 0.00070198 0.03591899 0.00060939\\n 0.0417364  0.08782868 -0.15858845 0.17414375 -0.02159146 -0.01602073\\n 0.00499183 -0.1815619 -0.01249154 -0.0166579  0.15074091 -0.29019135\\n 0.19524994 0.16444287 -0.01530536 0.16336329 0.04596546 0.06893176\\n -0.00198897 -0.09494856 -0.1624845 -0.08214928 0.08000992 -0.08799765\\n 0.05324158 -0.03949756'"
      ]
     },
     "execution_count": 61,
     "metadata": {},
     "output_type": "execute_result"
    }
   ],
   "source": [
    "import re \n",
    "\n",
    "re.sub(r'[^-.0-9\\s]', '', row['encoding']).replace('  ', ' ')"
   ]
  },
  {
   "cell_type": "code",
   "execution_count": 48,
   "metadata": {},
   "outputs": [
    {
     "data": {
      "text/plain": [
       "'[-0.12390631  0.07614616  0.11678329 -0.0997985  -0.08773655 -0.04309042\\n  0.06076267 -0.14244014  0.14825246 -0.05276699  0.20215906 -0.0340088\\n -0.26949546 -0.01933828 -0.0514079   0.12568706 -0.22719221 -0.19105817\\n -0.09496498 -0.01995986  0.04524636  0.04760112  0.01201146  0.11922956\\n -0.19961846 -0.20980765 -0.02525483 -0.12980998  0.06765667 -0.01994014\\n  0.04463937  0.07590622 -0.18922977  0.01173784  0.06832031  0.09709262\\n -0.04466827 -0.16053069  0.20023614 -0.02406869 -0.27431226 -0.09787033\\n  0.02818858  0.21709751  0.24486476 -0.0192653  -0.01601221 -0.12815627\\n  0.13381644 -0.32533035 -0.00484253  0.22556645  0.00439626  0.0992591\\n  0.03565243 -0.19268301  0.11221638  0.1286478  -0.26914591 -0.00612033\\n  0.06192154 -0.16558531  0.02380457 -0.07591818  0.11142398  0.02192428\\n -0.16445932 -0.11394823  0.17248364 -0.21480589 -0.05593668  0.15134929\\n -0.09576987 -0.22296187 -0.23300737 -0.02325273  0.4094032   0.22631662\\n -0.14975776  0.07008357 -0.09239125 -0.00525293  0.06747864  0.15845674\\n  0.01110436 -0.03325526 -0.11393594 -0.00538684  0.15588801 -0.04412394\\n  0.03666783  0.2919336  -0.01567321 -0.07327054  0.02325585  0.08544575\\n -0.12388242  0.06680378 -0.05652803  0.00070198  0.03591899  0.00060939\\n  0.0417364   0.08782868 -0.15858845  0.17414375 -0.02159146 -0.01602073\\n  0.00499183 -0.1815619  -0.01249154 -0.0166579   0.15074091 -0.29019135\\n  0.19524994  0.16444287 -0.01530536  0.16336329  0.04596546  0.06893176\\n -0.00198897 -0.09494856 -0.1624845  -0.08214928  0.08000992 -0.08799765\\n  0.05324158 -0.03949756]'"
      ]
     },
     "execution_count": 48,
     "metadata": {},
     "output_type": "execute_result"
    }
   ],
   "source": [
    "row['encoding']"
   ]
  },
  {
   "cell_type": "code",
   "execution_count": 67,
   "metadata": {},
   "outputs": [
    {
     "ename": "NameError",
     "evalue": "name 'file' is not defined",
     "output_type": "error",
     "traceback": [
      "\u001b[0;31m---------------------------------------------------------------------------\u001b[0m",
      "\u001b[0;31mNameError\u001b[0m                                 Traceback (most recent call last)",
      "\u001b[1;32m/home/amos/programs/CineFace/inject_encodings copy.ipynb Cell 23\u001b[0m line \u001b[0;36m1\n\u001b[0;32m----> <a href='vscode-notebook-cell:/home/amos/programs/CineFace/inject_encodings%20copy.ipynb#X31sZmlsZQ%3D%3D?line=0'>1</a>\u001b[0m temp \u001b[39m=\u001b[39m pd\u001b[39m.\u001b[39mread_csv(\u001b[39mstr\u001b[39m(file), index_col\u001b[39m=\u001b[39m\u001b[39m0\u001b[39m)\n\u001b[1;32m      <a href='vscode-notebook-cell:/home/amos/programs/CineFace/inject_encodings%20copy.ipynb#X31sZmlsZQ%3D%3D?line=1'>2</a>\u001b[0m e \u001b[39m=\u001b[39m temp\u001b[39m.\u001b[39miloc[\u001b[39m'\u001b[39m\u001b[39mencoding\u001b[39m\u001b[39m'\u001b[39m]\n\u001b[1;32m      <a href='vscode-notebook-cell:/home/amos/programs/CineFace/inject_encodings%20copy.ipynb#X31sZmlsZQ%3D%3D?line=2'>3</a>\u001b[0m np\u001b[39m.\u001b[39marray2string(e)\n",
      "\u001b[0;31mNameError\u001b[0m: name 'file' is not defined"
     ]
    }
   ],
   "source": [
    "temp = pd.read_csv(str(file), index_col=0)\n",
    "e = temp.iloc['encoding']\n",
    "np.array2string(e)"
   ]
  },
  {
   "cell_type": "markdown",
   "metadata": {},
   "source": []
  },
  {
   "cell_type": "code",
   "execution_count": 4,
   "metadata": {},
   "outputs": [
    {
     "name": "stderr",
     "output_type": "stream",
     "text": [
      "/tmp/ipykernel_18761/2577573468.py:1: DeprecationWarning: The binary mode of fromstring is deprecated, as it behaves surprisingly on unicode inputs. Use frombuffer instead\n",
      "  np.fromstring('[-0.143 .0456 .0332]')\n"
     ]
    },
    {
     "ename": "ValueError",
     "evalue": "string size must be a multiple of element size",
     "output_type": "error",
     "traceback": [
      "\u001b[0;31m---------------------------------------------------------------------------\u001b[0m",
      "\u001b[0;31mValueError\u001b[0m                                Traceback (most recent call last)",
      "\u001b[1;32m/home/amos/programs/CineFace/inject_encodings copy.ipynb Cell 24\u001b[0m line \u001b[0;36m1\n\u001b[0;32m----> <a href='vscode-notebook-cell:/home/amos/programs/CineFace/inject_encodings%20copy.ipynb#X33sZmlsZQ%3D%3D?line=0'>1</a>\u001b[0m np\u001b[39m.\u001b[39;49mfromstring(\u001b[39m'\u001b[39;49m\u001b[39m[-0.143 .0456 .0332]\u001b[39;49m\u001b[39m'\u001b[39;49m)\n",
      "\u001b[0;31mValueError\u001b[0m: string size must be a multiple of element size"
     ]
    }
   ],
   "source": [
    "np.fromstring('[-0.143 .0456 .0332]')"
   ]
  },
  {
   "cell_type": "code",
   "execution_count": null,
   "metadata": {},
   "outputs": [],
   "source": []
  }
 ],
 "metadata": {
  "kernelspec": {
   "display_name": "Python 3 (ipykernel)",
   "language": "python",
   "name": "python3"
  },
  "language_info": {
   "codemirror_mode": {
    "name": "ipython",
    "version": 3
   },
   "file_extension": ".py",
   "mimetype": "text/x-python",
   "name": "python",
   "nbconvert_exporter": "python",
   "pygments_lexer": "ipython3",
   "version": "3.11.5"
  }
 },
 "nbformat": 4,
 "nbformat_minor": 5
}
