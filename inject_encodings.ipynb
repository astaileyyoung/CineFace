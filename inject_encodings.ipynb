{
 "cells": [
  {
   "cell_type": "code",
   "execution_count": 39,
   "id": "f31ece81-9511-4070-b4fc-fc6be28b8ba8",
   "metadata": {},
   "outputs": [],
   "source": [
    "from pathlib import Path \n",
    "\n",
    "import numpy as np\n",
    "import pandas as pd\n",
    "import sqlalchemy as db\n",
    "from tqdm.auto import tqdm\n",
    "from utils import parse_filename"
   ]
  },
  {
   "cell_type": "code",
   "execution_count": 2,
   "id": "a9e89694-ef23-4e36-919e-988675f7278b",
   "metadata": {},
   "outputs": [],
   "source": [
    "username = 'amos'\n",
    "password = 'M0$hicat'\n",
    "host = '192.168.0.131'\n",
    "port = '3306'\n",
    "database = 'CineFace'"
   ]
  },
  {
   "cell_type": "code",
   "execution_count": 3,
   "id": "13f798e2-abac-47e7-b84c-ba6b20b5d3b7",
   "metadata": {},
   "outputs": [],
   "source": [
    "connection_string = f'mysql+pymysql://{username}:{password}@{host}:{port}/{database}'\n",
    "engine = db.create_engine(connection_string)\n",
    "conn = engine.connect()"
   ]
  },
  {
   "cell_type": "code",
   "execution_count": 4,
   "id": "ca59fb91-87cd-4b27-93d3-609a8fe56413",
   "metadata": {
    "scrolled": true
   },
   "outputs": [
    {
     "data": {
      "application/vnd.jupyter.widget-view+json": {
       "model_id": "79f0b7b85fa64815aabe5f7b0d237eed",
       "version_major": 2,
       "version_minor": 0
      },
      "text/plain": [
       "  0%|          | 0/2 [00:00<?, ?it/s]"
      ]
     },
     "metadata": {},
     "output_type": "display_data"
    },
    {
     "data": {
      "application/vnd.jupyter.widget-view+json": {
       "model_id": "c995ce3556d949d3acb627ce241329cc",
       "version_major": 2,
       "version_minor": 0
      },
      "text/plain": [
       "  0%|          | 0/249535 [00:00<?, ?it/s]"
      ]
     },
     "metadata": {},
     "output_type": "display_data"
    },
    {
     "data": {
      "application/vnd.jupyter.widget-view+json": {
       "model_id": "a4ce72d43b56443baf1d2ca0dd534cfd",
       "version_major": 2,
       "version_minor": 0
      },
      "text/plain": [
       "  0%|          | 0/462487 [00:00<?, ?it/s]"
      ]
     },
     "metadata": {},
     "output_type": "display_data"
    },
    {
     "data": {
      "text/html": [
       "<div>\n",
       "<style scoped>\n",
       "    .dataframe tbody tr th:only-of-type {\n",
       "        vertical-align: middle;\n",
       "    }\n",
       "\n",
       "    .dataframe tbody tr th {\n",
       "        vertical-align: top;\n",
       "    }\n",
       "\n",
       "    .dataframe thead th {\n",
       "        text-align: right;\n",
       "    }\n",
       "</style>\n",
       "<table border=\"1\" class=\"dataframe\">\n",
       "  <thead>\n",
       "    <tr style=\"text-align: right;\">\n",
       "      <th></th>\n",
       "      <th>filepath</th>\n",
       "      <th>encoding</th>\n",
       "    </tr>\n",
       "  </thead>\n",
       "  <tbody>\n",
       "    <tr>\n",
       "      <th>0</th>\n",
       "      <td>data/encodings/homeland_2011_796960/S05E04_390...</td>\n",
       "      <td>[-0.11495646834373474, 0.09172723442316055, 0....</td>\n",
       "    </tr>\n",
       "    <tr>\n",
       "      <th>1</th>\n",
       "      <td>data/encodings/homeland_2011_796960/S06E05_389...</td>\n",
       "      <td>[-0.026263369247317314, 0.03598316013813019, 0...</td>\n",
       "    </tr>\n",
       "    <tr>\n",
       "      <th>2</th>\n",
       "      <td>data/encodings/homeland_2011_796960/S01E01_429...</td>\n",
       "      <td>[-0.2073737531900406, 0.15791413187980652, 0.0...</td>\n",
       "    </tr>\n",
       "    <tr>\n",
       "      <th>3</th>\n",
       "      <td>data/encodings/homeland_2011_796960/S03E07_562...</td>\n",
       "      <td>[-0.0779518112540245, 0.15547886490821838, 0.1...</td>\n",
       "    </tr>\n",
       "    <tr>\n",
       "      <th>4</th>\n",
       "      <td>data/encodings/homeland_2011_796960/S07E04_111...</td>\n",
       "      <td>[-0.12568266689777374, 0.1840898096561432, 0.0...</td>\n",
       "    </tr>\n",
       "  </tbody>\n",
       "</table>\n",
       "</div>"
      ],
      "text/plain": [
       "                                            filepath  \\\n",
       "0  data/encodings/homeland_2011_796960/S05E04_390...   \n",
       "1  data/encodings/homeland_2011_796960/S06E05_389...   \n",
       "2  data/encodings/homeland_2011_796960/S01E01_429...   \n",
       "3  data/encodings/homeland_2011_796960/S03E07_562...   \n",
       "4  data/encodings/homeland_2011_796960/S07E04_111...   \n",
       "\n",
       "                                            encoding  \n",
       "0  [-0.11495646834373474, 0.09172723442316055, 0....  \n",
       "1  [-0.026263369247317314, 0.03598316013813019, 0...  \n",
       "2  [-0.2073737531900406, 0.15791413187980652, 0.0...  \n",
       "3  [-0.0779518112540245, 0.15547886490821838, 0.1...  \n",
       "4  [-0.12568266689777374, 0.1840898096561432, 0.0...  "
      ]
     },
     "execution_count": 4,
     "metadata": {},
     "output_type": "execute_result"
    }
   ],
   "source": [
    "encodings_dir = Path('./data/encodings')\n",
    "subdirs = [x for x in encodings_dir.iterdir()]\n",
    "data = []\n",
    "for subdir in tqdm(subdirs, leave=True):\n",
    "    files = [x for x in subdir.iterdir() if x.suffix == '.npy']\n",
    "    for file in tqdm(files, leave=False):\n",
    "        e = np.load(str(file))\n",
    "        datum = {'filepath': str(file),\n",
    "                 'encoding': e}\n",
    "        data.append(datum)\n",
    "df = pd.DataFrame(data)\n",
    "df.head()"
   ]
  },
  {
   "cell_type": "code",
   "execution_count": 41,
   "id": "d114bc67-8ad5-4fad-8349-f9509a2f34be",
   "metadata": {},
   "outputs": [
    {
     "data": {
      "application/vnd.jupyter.widget-view+json": {
       "model_id": "a22f62c8923e4cb8ae2bb293e500043b",
       "version_major": 2,
       "version_minor": 0
      },
      "text/plain": [
       "0it [00:00, ?it/s]"
      ]
     },
     "metadata": {},
     "output_type": "display_data"
    },
    {
     "data": {
      "application/vnd.jupyter.widget-view+json": {
       "model_id": "5ce00ad8fcb34869ab799d92e7a85e5f",
       "version_major": 2,
       "version_minor": 0
      },
      "text/plain": [
       "  0%|          | 0/712022 [00:00<?, ?it/s]"
      ]
     },
     "metadata": {},
     "output_type": "display_data"
    }
   ],
   "source": [
    "tqdm().pandas()\n",
    "data = df.progress_apply(parse_filename, axis=1)    "
   ]
  },
  {
   "cell_type": "code",
   "execution_count": 42,
   "id": "9f6d443c-4e1a-4dbb-82d9-10dd1287db8a",
   "metadata": {},
   "outputs": [
    {
     "data": {
      "text/html": [
       "<div>\n",
       "<style scoped>\n",
       "    .dataframe tbody tr th:only-of-type {\n",
       "        vertical-align: middle;\n",
       "    }\n",
       "\n",
       "    .dataframe tbody tr th {\n",
       "        vertical-align: top;\n",
       "    }\n",
       "\n",
       "    .dataframe thead th {\n",
       "        text-align: right;\n",
       "    }\n",
       "</style>\n",
       "<table border=\"1\" class=\"dataframe\">\n",
       "  <thead>\n",
       "    <tr style=\"text-align: right;\">\n",
       "      <th></th>\n",
       "      <th>filepath</th>\n",
       "      <th>encoding</th>\n",
       "      <th>season</th>\n",
       "      <th>episode</th>\n",
       "      <th>frame_num</th>\n",
       "      <th>face_num</th>\n",
       "    </tr>\n",
       "  </thead>\n",
       "  <tbody>\n",
       "    <tr>\n",
       "      <th>0</th>\n",
       "      <td>data/encodings/homeland_2011_796960/S05E04_390...</td>\n",
       "      <td>[-0.11495646834373474, 0.09172723442316055, 0....</td>\n",
       "      <td>5</td>\n",
       "      <td>4</td>\n",
       "      <td>39048</td>\n",
       "      <td>0</td>\n",
       "    </tr>\n",
       "    <tr>\n",
       "      <th>1</th>\n",
       "      <td>data/encodings/homeland_2011_796960/S06E05_389...</td>\n",
       "      <td>[-0.026263369247317314, 0.03598316013813019, 0...</td>\n",
       "      <td>6</td>\n",
       "      <td>5</td>\n",
       "      <td>38976</td>\n",
       "      <td>1</td>\n",
       "    </tr>\n",
       "    <tr>\n",
       "      <th>2</th>\n",
       "      <td>data/encodings/homeland_2011_796960/S01E01_429...</td>\n",
       "      <td>[-0.2073737531900406, 0.15791413187980652, 0.0...</td>\n",
       "      <td>1</td>\n",
       "      <td>1</td>\n",
       "      <td>4296</td>\n",
       "      <td>0</td>\n",
       "    </tr>\n",
       "    <tr>\n",
       "      <th>3</th>\n",
       "      <td>data/encodings/homeland_2011_796960/S03E07_562...</td>\n",
       "      <td>[-0.0779518112540245, 0.15547886490821838, 0.1...</td>\n",
       "      <td>3</td>\n",
       "      <td>7</td>\n",
       "      <td>56208</td>\n",
       "      <td>0</td>\n",
       "    </tr>\n",
       "    <tr>\n",
       "      <th>4</th>\n",
       "      <td>data/encodings/homeland_2011_796960/S07E04_111...</td>\n",
       "      <td>[-0.12568266689777374, 0.1840898096561432, 0.0...</td>\n",
       "      <td>7</td>\n",
       "      <td>4</td>\n",
       "      <td>11112</td>\n",
       "      <td>0</td>\n",
       "    </tr>\n",
       "  </tbody>\n",
       "</table>\n",
       "</div>"
      ],
      "text/plain": [
       "                                            filepath  \\\n",
       "0  data/encodings/homeland_2011_796960/S05E04_390...   \n",
       "1  data/encodings/homeland_2011_796960/S06E05_389...   \n",
       "2  data/encodings/homeland_2011_796960/S01E01_429...   \n",
       "3  data/encodings/homeland_2011_796960/S03E07_562...   \n",
       "4  data/encodings/homeland_2011_796960/S07E04_111...   \n",
       "\n",
       "                                            encoding  season  episode  \\\n",
       "0  [-0.11495646834373474, 0.09172723442316055, 0....       5        4   \n",
       "1  [-0.026263369247317314, 0.03598316013813019, 0...       6        5   \n",
       "2  [-0.2073737531900406, 0.15791413187980652, 0.0...       1        1   \n",
       "3  [-0.0779518112540245, 0.15547886490821838, 0.1...       3        7   \n",
       "4  [-0.12568266689777374, 0.1840898096561432, 0.0...       7        4   \n",
       "\n",
       "  frame_num face_num  \n",
       "0     39048        0  \n",
       "1     38976        1  \n",
       "2      4296        0  \n",
       "3     56208        0  \n",
       "4     11112        0  "
      ]
     },
     "execution_count": 42,
     "metadata": {},
     "output_type": "execute_result"
    }
   ],
   "source": [
    "new_df = pd.DataFrame(data)\n",
    "new_df.head()"
   ]
  },
  {
   "cell_type": "code",
   "execution_count": 38,
   "metadata": {},
   "outputs": [],
   "source": [
    "def format_series_name(data):\n",
    "    title = data['title'].lower().replace(' ', '-')\n",
    "    year = data['year']\n",
    "    imdb_id = data['series_id']\n",
    "    name = f'{title}_{year}_{imdb_id}'\n",
    "    return name"
   ]
  },
  {
   "cell_type": "code",
   "execution_count": 40,
   "id": "c8d2a693-5e27-4988-a882-f070ff5fae74",
   "metadata": {},
   "outputs": [
    {
     "ename": "KeyError",
     "evalue": "'title'",
     "output_type": "error",
     "traceback": [
      "\u001b[0;31m---------------------------------------------------------------------------\u001b[0m",
      "\u001b[0;31mKeyError\u001b[0m                                  Traceback (most recent call last)",
      "File \u001b[0;32m~/anaconda3/lib/python3.11/site-packages/pandas/core/indexes/base.py:3653\u001b[0m, in \u001b[0;36mIndex.get_loc\u001b[0;34m(self, key)\u001b[0m\n\u001b[1;32m   3652\u001b[0m \u001b[39mtry\u001b[39;00m:\n\u001b[0;32m-> 3653\u001b[0m     \u001b[39mreturn\u001b[39;00m \u001b[39mself\u001b[39m\u001b[39m.\u001b[39m_engine\u001b[39m.\u001b[39mget_loc(casted_key)\n\u001b[1;32m   3654\u001b[0m \u001b[39mexcept\u001b[39;00m \u001b[39mKeyError\u001b[39;00m \u001b[39mas\u001b[39;00m err:\n",
      "File \u001b[0;32m~/anaconda3/lib/python3.11/site-packages/pandas/_libs/index.pyx:147\u001b[0m, in \u001b[0;36mpandas._libs.index.IndexEngine.get_loc\u001b[0;34m()\u001b[0m\n",
      "File \u001b[0;32m~/anaconda3/lib/python3.11/site-packages/pandas/_libs/index.pyx:176\u001b[0m, in \u001b[0;36mpandas._libs.index.IndexEngine.get_loc\u001b[0;34m()\u001b[0m\n",
      "File \u001b[0;32mpandas/_libs/hashtable_class_helper.pxi:7080\u001b[0m, in \u001b[0;36mpandas._libs.hashtable.PyObjectHashTable.get_item\u001b[0;34m()\u001b[0m\n",
      "File \u001b[0;32mpandas/_libs/hashtable_class_helper.pxi:7088\u001b[0m, in \u001b[0;36mpandas._libs.hashtable.PyObjectHashTable.get_item\u001b[0;34m()\u001b[0m\n",
      "\u001b[0;31mKeyError\u001b[0m: 'title'",
      "\nThe above exception was the direct cause of the following exception:\n",
      "\u001b[0;31mKeyError\u001b[0m                                  Traceback (most recent call last)",
      "\u001b[1;32m/home/amos/programs/CineFace/inject_encodings.ipynb Cell 9\u001b[0m line \u001b[0;36m9\n\u001b[1;32m      <a href='vscode-notebook-cell:/home/amos/programs/CineFace/inject_encodings.ipynb#X10sZmlsZQ%3D%3D?line=6'>7</a>\u001b[0m temp \u001b[39m=\u001b[39m pd\u001b[39m.\u001b[39mread_csv(\u001b[39mstr\u001b[39m(files[\u001b[39m0\u001b[39m]), index_col\u001b[39m=\u001b[39m\u001b[39m0\u001b[39m)\n\u001b[1;32m      <a href='vscode-notebook-cell:/home/amos/programs/CineFace/inject_encodings.ipynb#X10sZmlsZQ%3D%3D?line=7'>8</a>\u001b[0m \u001b[39mtry\u001b[39;00m:\n\u001b[0;32m----> <a href='vscode-notebook-cell:/home/amos/programs/CineFace/inject_encodings.ipynb#X10sZmlsZQ%3D%3D?line=8'>9</a>\u001b[0m     d \u001b[39m=\u001b[39m dst_dir\u001b[39m.\u001b[39mjoinpath(format_series_name(temp\u001b[39m.\u001b[39miloc[\u001b[39m0\u001b[39m]))\n\u001b[1;32m     <a href='vscode-notebook-cell:/home/amos/programs/CineFace/inject_encodings.ipynb#X10sZmlsZQ%3D%3D?line=9'>10</a>\u001b[0m \u001b[39mexcept\u001b[39;00m \u001b[39mIndexError\u001b[39;00m:\n\u001b[1;32m     <a href='vscode-notebook-cell:/home/amos/programs/CineFace/inject_encodings.ipynb#X10sZmlsZQ%3D%3D?line=10'>11</a>\u001b[0m     \u001b[39mcontinue\u001b[39;00m\n",
      "\u001b[1;32m/home/amos/programs/CineFace/inject_encodings.ipynb Cell 9\u001b[0m line \u001b[0;36m2\n\u001b[1;32m      <a href='vscode-notebook-cell:/home/amos/programs/CineFace/inject_encodings.ipynb#X10sZmlsZQ%3D%3D?line=0'>1</a>\u001b[0m \u001b[39mdef\u001b[39;00m \u001b[39mformat_series_name\u001b[39m(data):\n\u001b[0;32m----> <a href='vscode-notebook-cell:/home/amos/programs/CineFace/inject_encodings.ipynb#X10sZmlsZQ%3D%3D?line=1'>2</a>\u001b[0m     title \u001b[39m=\u001b[39m data[\u001b[39m'\u001b[39m\u001b[39mtitle\u001b[39m\u001b[39m'\u001b[39m]\u001b[39m.\u001b[39mlower()\u001b[39m.\u001b[39mreplace(\u001b[39m'\u001b[39m\u001b[39m \u001b[39m\u001b[39m'\u001b[39m, \u001b[39m'\u001b[39m\u001b[39m-\u001b[39m\u001b[39m'\u001b[39m)\n\u001b[1;32m      <a href='vscode-notebook-cell:/home/amos/programs/CineFace/inject_encodings.ipynb#X10sZmlsZQ%3D%3D?line=2'>3</a>\u001b[0m     year \u001b[39m=\u001b[39m data[\u001b[39m'\u001b[39m\u001b[39myear\u001b[39m\u001b[39m'\u001b[39m]\n\u001b[1;32m      <a href='vscode-notebook-cell:/home/amos/programs/CineFace/inject_encodings.ipynb#X10sZmlsZQ%3D%3D?line=3'>4</a>\u001b[0m     imdb_id \u001b[39m=\u001b[39m data[\u001b[39m'\u001b[39m\u001b[39mseries_id\u001b[39m\u001b[39m'\u001b[39m]\n",
      "File \u001b[0;32m~/anaconda3/lib/python3.11/site-packages/pandas/core/series.py:1007\u001b[0m, in \u001b[0;36mSeries.__getitem__\u001b[0;34m(self, key)\u001b[0m\n\u001b[1;32m   1004\u001b[0m     \u001b[39mreturn\u001b[39;00m \u001b[39mself\u001b[39m\u001b[39m.\u001b[39m_values[key]\n\u001b[1;32m   1006\u001b[0m \u001b[39melif\u001b[39;00m key_is_scalar:\n\u001b[0;32m-> 1007\u001b[0m     \u001b[39mreturn\u001b[39;00m \u001b[39mself\u001b[39m\u001b[39m.\u001b[39m_get_value(key)\n\u001b[1;32m   1009\u001b[0m \u001b[39mif\u001b[39;00m is_hashable(key):\n\u001b[1;32m   1010\u001b[0m     \u001b[39m# Otherwise index.get_value will raise InvalidIndexError\u001b[39;00m\n\u001b[1;32m   1011\u001b[0m     \u001b[39mtry\u001b[39;00m:\n\u001b[1;32m   1012\u001b[0m         \u001b[39m# For labels that don't resolve as scalars like tuples and frozensets\u001b[39;00m\n",
      "File \u001b[0;32m~/anaconda3/lib/python3.11/site-packages/pandas/core/series.py:1116\u001b[0m, in \u001b[0;36mSeries._get_value\u001b[0;34m(self, label, takeable)\u001b[0m\n\u001b[1;32m   1113\u001b[0m     \u001b[39mreturn\u001b[39;00m \u001b[39mself\u001b[39m\u001b[39m.\u001b[39m_values[label]\n\u001b[1;32m   1115\u001b[0m \u001b[39m# Similar to Index.get_value, but we do not fall back to positional\u001b[39;00m\n\u001b[0;32m-> 1116\u001b[0m loc \u001b[39m=\u001b[39m \u001b[39mself\u001b[39m\u001b[39m.\u001b[39mindex\u001b[39m.\u001b[39mget_loc(label)\n\u001b[1;32m   1118\u001b[0m \u001b[39mif\u001b[39;00m is_integer(loc):\n\u001b[1;32m   1119\u001b[0m     \u001b[39mreturn\u001b[39;00m \u001b[39mself\u001b[39m\u001b[39m.\u001b[39m_values[loc]\n",
      "File \u001b[0;32m~/anaconda3/lib/python3.11/site-packages/pandas/core/indexes/base.py:3655\u001b[0m, in \u001b[0;36mIndex.get_loc\u001b[0;34m(self, key)\u001b[0m\n\u001b[1;32m   3653\u001b[0m     \u001b[39mreturn\u001b[39;00m \u001b[39mself\u001b[39m\u001b[39m.\u001b[39m_engine\u001b[39m.\u001b[39mget_loc(casted_key)\n\u001b[1;32m   3654\u001b[0m \u001b[39mexcept\u001b[39;00m \u001b[39mKeyError\u001b[39;00m \u001b[39mas\u001b[39;00m err:\n\u001b[0;32m-> 3655\u001b[0m     \u001b[39mraise\u001b[39;00m \u001b[39mKeyError\u001b[39;00m(key) \u001b[39mfrom\u001b[39;00m \u001b[39merr\u001b[39;00m\n\u001b[1;32m   3656\u001b[0m \u001b[39mexcept\u001b[39;00m \u001b[39mTypeError\u001b[39;00m:\n\u001b[1;32m   3657\u001b[0m     \u001b[39m# If we have a listlike key, _check_indexing_error will raise\u001b[39;00m\n\u001b[1;32m   3658\u001b[0m     \u001b[39m#  InvalidIndexError. Otherwise we fall through and re-raise\u001b[39;00m\n\u001b[1;32m   3659\u001b[0m     \u001b[39m#  the TypeError.\u001b[39;00m\n\u001b[1;32m   3660\u001b[0m     \u001b[39mself\u001b[39m\u001b[39m.\u001b[39m_check_indexing_error(key)\n",
      "\u001b[0;31mKeyError\u001b[0m: 'title'"
     ]
    }
   ],
   "source": [
    "faces_dir = Path('./data/faces')\n",
    "dst_dir = Path('./data/faces_new')\n",
    "sub_dirs = [x for x in faces_dir.iterdir()]\n",
    "faces = []\n",
    "for sub_dir in sub_dirs[:5]:\n",
    "    files = [x for x in sub_dir.iterdir()]\n",
    "    temp = pd.read_csv(str(files[0]), index_col=0)\n",
    "    try:\n",
    "        d = dst_dir.joinpath(format_series_name(temp.iloc[0]))\n",
    "    except IndexError:\n",
    "        continue\n",
    "    if not d.exists:\n",
    "        Path.mkdir(d)\n",
    "    for file in files[:5]:\n",
    "        face = pd.read_csv(str(file), index_col=0)\n",
    "        face = face.merge(new_df.drop('filepath', axis=1),\n",
    "                          how='left',\n",
    "                          on=['series_id', 'season', 'episode', 'frame_num', 'face_num'])\n",
    "        if 'confidence' not in face.columns:\n",
    "            face = face.assign('confidence'=np.nan)\n",
    "        fp = d.joinpath(file.name)\n",
    "        face.to_csv(str(fp))"
   ]
  },
  {
   "cell_type": "code",
   "execution_count": 43,
   "metadata": {},
   "outputs": [],
   "source": [
    "def f(row):\n",
    "    title, year, series_id = Path(row['filepath']).parent.parts[-1].split('_')\n",
    "    row['title'] = title\n",
    "    row['year'] = int(year)\n",
    "    row['series_id'] = int(series_id)\n",
    "    return row"
   ]
  },
  {
   "cell_type": "code",
   "execution_count": 46,
   "metadata": {},
   "outputs": [
    {
     "data": {
      "application/vnd.jupyter.widget-view+json": {
       "model_id": "671b37ac642f43ea90c21ddcaf28ab4a",
       "version_major": 2,
       "version_minor": 0
      },
      "text/plain": [
       "  0%|          | 0/712022 [00:00<?, ?it/s]"
      ]
     },
     "metadata": {},
     "output_type": "display_data"
    },
    {
     "data": {
      "text/html": [
       "<div>\n",
       "<style scoped>\n",
       "    .dataframe tbody tr th:only-of-type {\n",
       "        vertical-align: middle;\n",
       "    }\n",
       "\n",
       "    .dataframe tbody tr th {\n",
       "        vertical-align: top;\n",
       "    }\n",
       "\n",
       "    .dataframe thead th {\n",
       "        text-align: right;\n",
       "    }\n",
       "</style>\n",
       "<table border=\"1\" class=\"dataframe\">\n",
       "  <thead>\n",
       "    <tr style=\"text-align: right;\">\n",
       "      <th></th>\n",
       "      <th>filepath</th>\n",
       "      <th>encoding</th>\n",
       "      <th>season</th>\n",
       "      <th>episode</th>\n",
       "      <th>frame_num</th>\n",
       "      <th>face_num</th>\n",
       "      <th>title</th>\n",
       "      <th>year</th>\n",
       "      <th>series_id</th>\n",
       "    </tr>\n",
       "  </thead>\n",
       "  <tbody>\n",
       "    <tr>\n",
       "      <th>0</th>\n",
       "      <td>data/encodings/homeland_2011_796960/S05E04_390...</td>\n",
       "      <td>[-0.11495646834373474, 0.09172723442316055, 0....</td>\n",
       "      <td>5</td>\n",
       "      <td>4</td>\n",
       "      <td>39048</td>\n",
       "      <td>0</td>\n",
       "      <td>homeland</td>\n",
       "      <td>2011</td>\n",
       "      <td>796960</td>\n",
       "    </tr>\n",
       "    <tr>\n",
       "      <th>1</th>\n",
       "      <td>data/encodings/homeland_2011_796960/S06E05_389...</td>\n",
       "      <td>[-0.026263369247317314, 0.03598316013813019, 0...</td>\n",
       "      <td>6</td>\n",
       "      <td>5</td>\n",
       "      <td>38976</td>\n",
       "      <td>1</td>\n",
       "      <td>homeland</td>\n",
       "      <td>2011</td>\n",
       "      <td>796960</td>\n",
       "    </tr>\n",
       "    <tr>\n",
       "      <th>2</th>\n",
       "      <td>data/encodings/homeland_2011_796960/S01E01_429...</td>\n",
       "      <td>[-0.2073737531900406, 0.15791413187980652, 0.0...</td>\n",
       "      <td>1</td>\n",
       "      <td>1</td>\n",
       "      <td>4296</td>\n",
       "      <td>0</td>\n",
       "      <td>homeland</td>\n",
       "      <td>2011</td>\n",
       "      <td>796960</td>\n",
       "    </tr>\n",
       "    <tr>\n",
       "      <th>3</th>\n",
       "      <td>data/encodings/homeland_2011_796960/S03E07_562...</td>\n",
       "      <td>[-0.0779518112540245, 0.15547886490821838, 0.1...</td>\n",
       "      <td>3</td>\n",
       "      <td>7</td>\n",
       "      <td>56208</td>\n",
       "      <td>0</td>\n",
       "      <td>homeland</td>\n",
       "      <td>2011</td>\n",
       "      <td>796960</td>\n",
       "    </tr>\n",
       "    <tr>\n",
       "      <th>4</th>\n",
       "      <td>data/encodings/homeland_2011_796960/S07E04_111...</td>\n",
       "      <td>[-0.12568266689777374, 0.1840898096561432, 0.0...</td>\n",
       "      <td>7</td>\n",
       "      <td>4</td>\n",
       "      <td>11112</td>\n",
       "      <td>0</td>\n",
       "      <td>homeland</td>\n",
       "      <td>2011</td>\n",
       "      <td>796960</td>\n",
       "    </tr>\n",
       "  </tbody>\n",
       "</table>\n",
       "</div>"
      ],
      "text/plain": [
       "                                            filepath  \\\n",
       "0  data/encodings/homeland_2011_796960/S05E04_390...   \n",
       "1  data/encodings/homeland_2011_796960/S06E05_389...   \n",
       "2  data/encodings/homeland_2011_796960/S01E01_429...   \n",
       "3  data/encodings/homeland_2011_796960/S03E07_562...   \n",
       "4  data/encodings/homeland_2011_796960/S07E04_111...   \n",
       "\n",
       "                                            encoding  season  episode  \\\n",
       "0  [-0.11495646834373474, 0.09172723442316055, 0....       5        4   \n",
       "1  [-0.026263369247317314, 0.03598316013813019, 0...       6        5   \n",
       "2  [-0.2073737531900406, 0.15791413187980652, 0.0...       1        1   \n",
       "3  [-0.0779518112540245, 0.15547886490821838, 0.1...       3        7   \n",
       "4  [-0.12568266689777374, 0.1840898096561432, 0.0...       7        4   \n",
       "\n",
       "  frame_num face_num     title  year  series_id  \n",
       "0     39048        0  homeland  2011     796960  \n",
       "1     38976        1  homeland  2011     796960  \n",
       "2      4296        0  homeland  2011     796960  \n",
       "3     56208        0  homeland  2011     796960  \n",
       "4     11112        0  homeland  2011     796960  "
      ]
     },
     "execution_count": 46,
     "metadata": {},
     "output_type": "execute_result"
    }
   ],
   "source": [
    "tqdm.pandas()\n",
    "rows = new_df.progress_apply(f, axis=1)\n",
    "test = pd.DataFrame(rows)\n",
    "test.head()"
   ]
  },
  {
   "cell_type": "code",
   "execution_count": null,
   "metadata": {},
   "outputs": [],
   "source": [
    "faces_dir = Path('./data/faces')\n",
    "dst_dir = Path('./data/faces_new')\n",
    "sub_dirs = [x for x in faces_dir.iterdir()]\n",
    "faces = []\n",
    "df_a = df.assign(name=lambda x: Path(x['filepath']).stem)\n",
    "for sub_dir in sub_dirs[:5]:\n",
    "    files = [x for x in sub_dir.iterdir()]\n",
    "    for file in files:\n",
    "        face_df = pd.DataFrame(str(file), index_col=0)\n",
    "        face_df = face_df.assign(name=lambda x: Path())\n",
    "        encoding_df = face_df.assign(encoding_path=)\n",
    "        "
   ]
  },
  {
   "cell_type": "code",
   "execution_count": null,
   "metadata": {},
   "outputs": [],
   "source": [
    "df.iloc[0]['encoding']"
   ]
  },
  {
   "cell_type": "code",
   "execution_count": null,
   "metadata": {},
   "outputs": [],
   "source": [
    "faces_dir = Path('./data/faces')\n",
    "dst_dir = Path('./data/faces_new')\n",
    "sub_dirs = [x for x in faces_dir.iterdir()]\n",
    "faces = []\n",
    "for sub_dir in sub_dirs[:5]:\n",
    "    files = [x for x in sub_dir.iterdir()]\n",
    "    temp = pd.read_csv(str(files[0]), index_col=0)\n",
    "    try:\n",
    "        d = dst_dir.joinpath(format_series_name(temp.iloc[0]))\n",
    "    except IndexError:\n",
    "        continue\n",
    "    if not d.exists:\n",
    "        Path.mkdir(d)\n",
    "    for file in files[:5]:\n",
    "        face = pd.read_csv(str(file), index_col=0)\n",
    "        face = face.merge(new_df.drop('filepath', axis=1),\n",
    "                          how='left',\n",
    "                          on=['series_id', 'season', 'episode', 'frame_num', 'face_num'])\n",
    "        if 'confidence' not in face.columns:\n",
    "            face = face.assign('confidence'=np.nan)\n",
    "        fp = d.joinpath(file.name)\n",
    "        face.to_csv(str(fp))"
   ]
  }
 ],
 "metadata": {
  "kernelspec": {
   "display_name": "Python 3 (ipykernel)",
   "language": "python",
   "name": "python3"
  },
  "language_info": {
   "codemirror_mode": {
    "name": "ipython",
    "version": 3
   },
   "file_extension": ".py",
   "mimetype": "text/x-python",
   "name": "python",
   "nbconvert_exporter": "python",
   "pygments_lexer": "ipython3",
   "version": "3.11.5"
  }
 },
 "nbformat": 4,
 "nbformat_minor": 5
}
