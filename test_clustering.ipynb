{
 "cells": [
  {
   "cell_type": "code",
   "execution_count": 5,
   "id": "f6cc595a-dfbc-4a22-982c-59c95425e0b2",
   "metadata": {},
   "outputs": [],
   "source": [
    "import os\n",
    "import pandas as pd\n",
    "import sqlalchemy as db\n",
    "from pathlib import Path\n",
    "from tqdm.auto import tqdm"
   ]
  },
  {
   "cell_type": "code",
   "execution_count": 2,
   "id": "81bf6486-c10b-4c85-9666-9dbf27e4c374",
   "metadata": {},
   "outputs": [],
   "source": [
    "username = 'amos'\n",
    "password = 'M0$hicat'\n",
    "host = '192.168.0.131'\n",
    "port = '3306'\n",
    "database = 'CineFace'"
   ]
  },
  {
   "cell_type": "code",
   "execution_count": 3,
   "id": "9d17287a-e9c8-4161-988b-d1e0aba5001e",
   "metadata": {},
   "outputs": [],
   "source": [
    "connection_string = f'mysql+pymysql://{username}:{password}@{host}:{port}/{database}'\n",
    "engine = db.create_engine(connection_string)"
   ]
  },
  {
   "cell_type": "code",
   "execution_count": 11,
   "id": "3f4df12c-d6f5-4a4f-882b-99d7443027a0",
   "metadata": {},
   "outputs": [
    {
     "data": {
      "text/html": [
       "<div>\n",
       "<style scoped>\n",
       "    .dataframe tbody tr th:only-of-type {\n",
       "        vertical-align: middle;\n",
       "    }\n",
       "\n",
       "    .dataframe tbody tr th {\n",
       "        vertical-align: top;\n",
       "    }\n",
       "\n",
       "    .dataframe thead th {\n",
       "        text-align: right;\n",
       "    }\n",
       "</style>\n",
       "<table border=\"1\" class=\"dataframe\">\n",
       "  <thead>\n",
       "    <tr style=\"text-align: right;\">\n",
       "      <th></th>\n",
       "      <th>episode_id</th>\n",
       "      <th>character</th>\n",
       "      <th>personID</th>\n",
       "      <th>cluster</th>\n",
       "      <th>confidence</th>\n",
       "    </tr>\n",
       "  </thead>\n",
       "  <tbody>\n",
       "    <tr>\n",
       "      <th>0</th>\n",
       "      <td>2121961</td>\n",
       "      <td>Dr. Gregory House</td>\n",
       "      <td>491402</td>\n",
       "      <td>3.0</td>\n",
       "      <td>0.674</td>\n",
       "    </tr>\n",
       "    <tr>\n",
       "      <th>1</th>\n",
       "      <td>2121961</td>\n",
       "      <td>Dr. Eric Foreman</td>\n",
       "      <td>4898</td>\n",
       "      <td>4.0</td>\n",
       "      <td>0.578</td>\n",
       "    </tr>\n",
       "    <tr>\n",
       "      <th>2</th>\n",
       "      <td>2121961</td>\n",
       "      <td>Dr. James Wilson</td>\n",
       "      <td>494</td>\n",
       "      <td>12.0</td>\n",
       "      <td>0.583</td>\n",
       "    </tr>\n",
       "    <tr>\n",
       "      <th>3</th>\n",
       "      <td>2121961</td>\n",
       "      <td>Dr. Robert Chase</td>\n",
       "      <td>817980</td>\n",
       "      <td>11.0</td>\n",
       "      <td>0.592</td>\n",
       "    </tr>\n",
       "    <tr>\n",
       "      <th>4</th>\n",
       "      <td>2121961</td>\n",
       "      <td>Dr. Chris Taub</td>\n",
       "      <td>414772</td>\n",
       "      <td>9.0</td>\n",
       "      <td>0.688</td>\n",
       "    </tr>\n",
       "  </tbody>\n",
       "</table>\n",
       "</div>"
      ],
      "text/plain": [
       "   episode_id          character  personID  cluster  confidence\n",
       "0     2121961  Dr. Gregory House    491402      3.0       0.674\n",
       "1     2121961   Dr. Eric Foreman      4898      4.0       0.578\n",
       "2     2121961   Dr. James Wilson       494     12.0       0.583\n",
       "3     2121961   Dr. Robert Chase    817980     11.0       0.592\n",
       "4     2121961     Dr. Chris Taub    414772      9.0       0.688"
      ]
     },
     "execution_count": 11,
     "metadata": {},
     "output_type": "execute_result"
    }
   ],
   "source": [
    "d = Path('./data/clusters/house_2004_0412142')\n",
    "paths = [x for x in d.iterdir() if x.suffix == '.csv']\n",
    "dfs = [pd.read_csv(x, index_col=0) for x in paths]\n",
    "df = pd.concat(dfs, axis=0)\n",
    "df.head()\n",
    "# for root, dir, files in os.walk(str(d)):\n",
    "#     for name in files:\n",
    "#         fp = Path(root).joinpath(name)\n",
    "#         if fp.suffix in ['.png', '.jpeg', '.jpg']:\n",
    "#             paths.append(fp)"
   ]
  },
  {
   "cell_type": "code",
   "execution_count": 12,
   "id": "74fa9fb3-e6b0-465c-89b0-76a05d54e9f1",
   "metadata": {},
   "outputs": [
    {
     "data": {
      "text/html": [
       "<div>\n",
       "<style scoped>\n",
       "    .dataframe tbody tr th:only-of-type {\n",
       "        vertical-align: middle;\n",
       "    }\n",
       "\n",
       "    .dataframe tbody tr th {\n",
       "        vertical-align: top;\n",
       "    }\n",
       "\n",
       "    .dataframe thead th {\n",
       "        text-align: right;\n",
       "    }\n",
       "</style>\n",
       "<table border=\"1\" class=\"dataframe\">\n",
       "  <thead>\n",
       "    <tr style=\"text-align: right;\">\n",
       "      <th></th>\n",
       "      <th>episode_id</th>\n",
       "      <th>character</th>\n",
       "      <th>personID</th>\n",
       "      <th>cluster</th>\n",
       "      <th>confidence</th>\n",
       "    </tr>\n",
       "  </thead>\n",
       "  <tbody>\n",
       "    <tr>\n",
       "      <th>0</th>\n",
       "      <td>2121961</td>\n",
       "      <td>Dr. Gregory House</td>\n",
       "      <td>491402</td>\n",
       "      <td>3.0</td>\n",
       "      <td>0.674</td>\n",
       "    </tr>\n",
       "    <tr>\n",
       "      <th>1</th>\n",
       "      <td>2121961</td>\n",
       "      <td>Dr. Eric Foreman</td>\n",
       "      <td>4898</td>\n",
       "      <td>4.0</td>\n",
       "      <td>0.578</td>\n",
       "    </tr>\n",
       "    <tr>\n",
       "      <th>2</th>\n",
       "      <td>2121961</td>\n",
       "      <td>Dr. James Wilson</td>\n",
       "      <td>494</td>\n",
       "      <td>12.0</td>\n",
       "      <td>0.583</td>\n",
       "    </tr>\n",
       "    <tr>\n",
       "      <th>3</th>\n",
       "      <td>2121961</td>\n",
       "      <td>Dr. Robert Chase</td>\n",
       "      <td>817980</td>\n",
       "      <td>11.0</td>\n",
       "      <td>0.592</td>\n",
       "    </tr>\n",
       "    <tr>\n",
       "      <th>4</th>\n",
       "      <td>2121961</td>\n",
       "      <td>Dr. Chris Taub</td>\n",
       "      <td>414772</td>\n",
       "      <td>9.0</td>\n",
       "      <td>0.688</td>\n",
       "    </tr>\n",
       "    <tr>\n",
       "      <th>5</th>\n",
       "      <td>2121961</td>\n",
       "      <td>Dr. Jessica Adams</td>\n",
       "      <td>951148</td>\n",
       "      <td>8.0</td>\n",
       "      <td>0.466</td>\n",
       "    </tr>\n",
       "    <tr>\n",
       "      <th>6</th>\n",
       "      <td>2121961</td>\n",
       "      <td>Dr. Chi Park</td>\n",
       "      <td>2304722</td>\n",
       "      <td>10.0</td>\n",
       "      <td>0.560</td>\n",
       "    </tr>\n",
       "    <tr>\n",
       "      <th>7</th>\n",
       "      <td>2121961</td>\n",
       "      <td>Dominika House</td>\n",
       "      <td>2764521</td>\n",
       "      <td>17.0</td>\n",
       "      <td>0.384</td>\n",
       "    </tr>\n",
       "    <tr>\n",
       "      <th>8</th>\n",
       "      <td>2121961</td>\n",
       "      <td>Nurse</td>\n",
       "      <td>75061</td>\n",
       "      <td>2.0</td>\n",
       "      <td>0.366</td>\n",
       "    </tr>\n",
       "  </tbody>\n",
       "</table>\n",
       "</div>"
      ],
      "text/plain": [
       "   episode_id          character  personID  cluster  confidence\n",
       "0     2121961  Dr. Gregory House    491402      3.0       0.674\n",
       "1     2121961   Dr. Eric Foreman      4898      4.0       0.578\n",
       "2     2121961   Dr. James Wilson       494     12.0       0.583\n",
       "3     2121961   Dr. Robert Chase    817980     11.0       0.592\n",
       "4     2121961     Dr. Chris Taub    414772      9.0       0.688\n",
       "5     2121961  Dr. Jessica Adams    951148      8.0       0.466\n",
       "6     2121961       Dr. Chi Park   2304722     10.0       0.560\n",
       "7     2121961     Dominika House   2764521     17.0       0.384\n",
       "8     2121961              Nurse     75061      2.0       0.366"
      ]
     },
     "execution_count": 12,
     "metadata": {},
     "output_type": "execute_result"
    }
   ],
   "source": [
    "episode = df[df['episode_id'] == 2121961]\n",
    "episode"
   ]
  },
  {
   "cell_type": "code",
   "execution_count": 13,
   "id": "7f9991fc-e8c6-4197-b712-6e57af478528",
   "metadata": {},
   "outputs": [
    {
     "data": {
      "text/plain": [
       "(1756, 5)"
      ]
     },
     "execution_count": 13,
     "metadata": {},
     "output_type": "execute_result"
    }
   ],
   "source": [
    "df.shape"
   ]
  },
  {
   "cell_type": "code",
   "execution_count": null,
   "id": "f8c95eb5-f325-4c81-9f6e-47be9419398e",
   "metadata": {},
   "outputs": [],
   "source": []
  }
 ],
 "metadata": {
  "kernelspec": {
   "display_name": "Python 3 (ipykernel)",
   "language": "python",
   "name": "python3"
  },
  "language_info": {
   "codemirror_mode": {
    "name": "ipython",
    "version": 3
   },
   "file_extension": ".py",
   "mimetype": "text/x-python",
   "name": "python",
   "nbconvert_exporter": "python",
   "pygments_lexer": "ipython3",
   "version": "3.11.5"
  }
 },
 "nbformat": 4,
 "nbformat_minor": 5
}
